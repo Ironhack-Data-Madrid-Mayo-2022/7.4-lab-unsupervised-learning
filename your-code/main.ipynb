{
 "cells": [
  {
   "cell_type": "markdown",
   "metadata": {
    "toc": true
   },
   "source": [
    "<h1>Table of Contents<span class=\"tocSkip\"></span></h1>\n",
    "<div class=\"toc\"><ul class=\"toc-item\"><li><span><a href=\"#Before-your-start:\" data-toc-modified-id=\"Before-your-start:-1\"><span class=\"toc-item-num\">1&nbsp;&nbsp;</span>Before your start:</a></span></li><li><span><a href=\"#Challenge-1---Import-and-Describe-the-Dataset\" data-toc-modified-id=\"Challenge-1---Import-and-Describe-the-Dataset-2\"><span class=\"toc-item-num\">2&nbsp;&nbsp;</span>Challenge 1 - Import and Describe the Dataset</a></span><ul class=\"toc-item\"><li><ul class=\"toc-item\"><li><ul class=\"toc-item\"><li><span><a href=\"#Explore-the-dataset-with-mathematical-and-visualization-techniques.-What-do-you-find?\" data-toc-modified-id=\"Explore-the-dataset-with-mathematical-and-visualization-techniques.-What-do-you-find?-2.0.0.1\"><span class=\"toc-item-num\">2.0.0.1&nbsp;&nbsp;</span>Explore the dataset with mathematical and visualization techniques. What do you find?</a></span></li></ul></li></ul></li></ul></li><li><span><a href=\"#Challenge-2---Data-Cleaning-and-Transformation\" data-toc-modified-id=\"Challenge-2---Data-Cleaning-and-Transformation-3\"><span class=\"toc-item-num\">3&nbsp;&nbsp;</span>Challenge 2 - Data Cleaning and Transformation</a></span></li><li><span><a href=\"#Challenge-3---Data-Preprocessing\" data-toc-modified-id=\"Challenge-3---Data-Preprocessing-4\"><span class=\"toc-item-num\">4&nbsp;&nbsp;</span>Challenge 3 - Data Preprocessing</a></span><ul class=\"toc-item\"><li><ul class=\"toc-item\"><li><ul class=\"toc-item\"><li><span><a href=\"#We-will-use-the-StandardScaler-from-sklearn.preprocessing-and-scale-our-data.-Read-more-about-StandardScaler-here.\" data-toc-modified-id=\"We-will-use-the-StandardScaler-from-sklearn.preprocessing-and-scale-our-data.-Read-more-about-StandardScaler-here.-4.0.0.1\"><span class=\"toc-item-num\">4.0.0.1&nbsp;&nbsp;</span>We will use the <code>StandardScaler</code> from <code>sklearn.preprocessing</code> and scale our data. Read more about <code>StandardScaler</code> <a href=\"https://scikit-learn.org/stable/modules/generated/sklearn.preprocessing.StandardScaler.html#sklearn.preprocessing.StandardScaler\" target=\"_blank\">here</a>.</a></span></li></ul></li></ul></li></ul></li><li><span><a href=\"#Challenge-4---Data-Clustering-with-K-Means\" data-toc-modified-id=\"Challenge-4---Data-Clustering-with-K-Means-5\"><span class=\"toc-item-num\">5&nbsp;&nbsp;</span>Challenge 4 - Data Clustering with K-Means</a></span></li><li><span><a href=\"#Challenge-5---Data-Clustering-with-DBSCAN\" data-toc-modified-id=\"Challenge-5---Data-Clustering-with-DBSCAN-6\"><span class=\"toc-item-num\">6&nbsp;&nbsp;</span>Challenge 5 - Data Clustering with DBSCAN</a></span></li><li><span><a href=\"#Challenge-6---Compare-K-Means-with-DBSCAN\" data-toc-modified-id=\"Challenge-6---Compare-K-Means-with-DBSCAN-7\"><span class=\"toc-item-num\">7&nbsp;&nbsp;</span>Challenge 6 - Compare K-Means with DBSCAN</a></span></li><li><span><a href=\"#Bonus-Challenge-2---Changing-K-Means-Number-of-Clusters\" data-toc-modified-id=\"Bonus-Challenge-2---Changing-K-Means-Number-of-Clusters-8\"><span class=\"toc-item-num\">8&nbsp;&nbsp;</span>Bonus Challenge 2 - Changing K-Means Number of Clusters</a></span></li><li><span><a href=\"#Bonus-Challenge-3---Changing-DBSCAN-eps-and-min_samples\" data-toc-modified-id=\"Bonus-Challenge-3---Changing-DBSCAN-eps-and-min_samples-9\"><span class=\"toc-item-num\">9&nbsp;&nbsp;</span>Bonus Challenge 3 - Changing DBSCAN <code>eps</code> and <code>min_samples</code></a></span></li></ul></div>"
   ]
  },
  {
   "cell_type": "markdown",
   "metadata": {},
   "source": [
    "# Before your start:\n",
    "- Read the README.md file\n",
    "- Comment as much as you can and use the resources in the README.md file\n",
    "- Happy learning!"
   ]
  },
  {
   "cell_type": "code",
   "execution_count": 44,
   "metadata": {},
   "outputs": [],
   "source": [
    "# Import your libraries:\n",
    "\n",
    "%matplotlib inline\n",
    "\n",
    "from scipy import stats\n",
    "import matplotlib.pyplot as plt\n",
    "import numpy as np\n",
    "import pandas as pd\n",
    "import seaborn as sns\n",
    "import warnings                                              \n",
    "from sklearn.exceptions import DataConversionWarning          \n",
    "warnings.filterwarnings(action='ignore', category=DataConversionWarning)"
   ]
  },
  {
   "cell_type": "markdown",
   "metadata": {},
   "source": [
    "# Challenge 1 - Import and Describe the Dataset\n",
    "\n",
    "In this lab, we will use a dataset containing information about customer preferences. We will look at how much each customer spends in a year on each subcategory in the grocery store and try to find similarities using clustering.\n",
    "\n",
    "The origin of the dataset is [here](https://archive.ics.uci.edu/ml/datasets/wholesale+customers)."
   ]
  },
  {
   "cell_type": "code",
   "execution_count": 3,
   "metadata": {},
   "outputs": [],
   "source": [
    "# loading the data:\n",
    "customers = pd.read_csv('../data/Wholesale customers data.csv')"
   ]
  },
  {
   "cell_type": "markdown",
   "metadata": {},
   "source": [
    "#### Explore the dataset with mathematical and visualization techniques. What do you find?\n",
    "\n",
    "Checklist:\n",
    "\n",
    "* What does each column mean?\n",
    "* Any categorical data to convert?\n",
    "* Any missing data to remove?\n",
    "* Column collinearity - any high correlations?\n",
    "* Descriptive statistics - any outliers to remove?\n",
    "* Column-wise data distribution - is the distribution skewed?\n",
    "* Etc.\n",
    "\n",
    "Additional info: Over a century ago, an Italian economist named Vilfredo Pareto discovered that roughly 20% of the customers account for 80% of the typical retail sales. This is called the [Pareto principle](https://en.wikipedia.org/wiki/Pareto_principle). Check if this dataset displays this characteristic."
   ]
  },
  {
   "cell_type": "code",
   "execution_count": 7,
   "metadata": {},
   "outputs": [
    {
     "data": {
      "text/html": [
       "<div>\n",
       "<style scoped>\n",
       "    .dataframe tbody tr th:only-of-type {\n",
       "        vertical-align: middle;\n",
       "    }\n",
       "\n",
       "    .dataframe tbody tr th {\n",
       "        vertical-align: top;\n",
       "    }\n",
       "\n",
       "    .dataframe thead th {\n",
       "        text-align: right;\n",
       "    }\n",
       "</style>\n",
       "<table border=\"1\" class=\"dataframe\">\n",
       "  <thead>\n",
       "    <tr style=\"text-align: right;\">\n",
       "      <th></th>\n",
       "      <th>Channel</th>\n",
       "      <th>Region</th>\n",
       "      <th>Fresh</th>\n",
       "      <th>Milk</th>\n",
       "      <th>Grocery</th>\n",
       "      <th>Frozen</th>\n",
       "      <th>Detergents_Paper</th>\n",
       "      <th>Delicassen</th>\n",
       "    </tr>\n",
       "  </thead>\n",
       "  <tbody>\n",
       "    <tr>\n",
       "      <th>0</th>\n",
       "      <td>2</td>\n",
       "      <td>3</td>\n",
       "      <td>12669</td>\n",
       "      <td>9656</td>\n",
       "      <td>7561</td>\n",
       "      <td>214</td>\n",
       "      <td>2674</td>\n",
       "      <td>1338</td>\n",
       "    </tr>\n",
       "    <tr>\n",
       "      <th>1</th>\n",
       "      <td>2</td>\n",
       "      <td>3</td>\n",
       "      <td>7057</td>\n",
       "      <td>9810</td>\n",
       "      <td>9568</td>\n",
       "      <td>1762</td>\n",
       "      <td>3293</td>\n",
       "      <td>1776</td>\n",
       "    </tr>\n",
       "    <tr>\n",
       "      <th>2</th>\n",
       "      <td>2</td>\n",
       "      <td>3</td>\n",
       "      <td>6353</td>\n",
       "      <td>8808</td>\n",
       "      <td>7684</td>\n",
       "      <td>2405</td>\n",
       "      <td>3516</td>\n",
       "      <td>7844</td>\n",
       "    </tr>\n",
       "    <tr>\n",
       "      <th>3</th>\n",
       "      <td>1</td>\n",
       "      <td>3</td>\n",
       "      <td>13265</td>\n",
       "      <td>1196</td>\n",
       "      <td>4221</td>\n",
       "      <td>6404</td>\n",
       "      <td>507</td>\n",
       "      <td>1788</td>\n",
       "    </tr>\n",
       "    <tr>\n",
       "      <th>4</th>\n",
       "      <td>2</td>\n",
       "      <td>3</td>\n",
       "      <td>22615</td>\n",
       "      <td>5410</td>\n",
       "      <td>7198</td>\n",
       "      <td>3915</td>\n",
       "      <td>1777</td>\n",
       "      <td>5185</td>\n",
       "    </tr>\n",
       "  </tbody>\n",
       "</table>\n",
       "</div>"
      ],
      "text/plain": [
       "   Channel  Region  Fresh  Milk  Grocery  Frozen  Detergents_Paper  Delicassen\n",
       "0        2       3  12669  9656     7561     214              2674        1338\n",
       "1        2       3   7057  9810     9568    1762              3293        1776\n",
       "2        2       3   6353  8808     7684    2405              3516        7844\n",
       "3        1       3  13265  1196     4221    6404               507        1788\n",
       "4        2       3  22615  5410     7198    3915              1777        5185"
      ]
     },
     "execution_count": 7,
     "metadata": {},
     "output_type": "execute_result"
    }
   ],
   "source": [
    "customers.head()"
   ]
  },
  {
   "cell_type": "code",
   "execution_count": 6,
   "metadata": {},
   "outputs": [
    {
     "name": "stdout",
     "output_type": "stream",
     "text": [
      "<class 'pandas.core.frame.DataFrame'>\n",
      "RangeIndex: 440 entries, 0 to 439\n",
      "Data columns (total 8 columns):\n",
      " #   Column            Non-Null Count  Dtype\n",
      "---  ------            --------------  -----\n",
      " 0   Channel           440 non-null    int64\n",
      " 1   Region            440 non-null    int64\n",
      " 2   Fresh             440 non-null    int64\n",
      " 3   Milk              440 non-null    int64\n",
      " 4   Grocery           440 non-null    int64\n",
      " 5   Frozen            440 non-null    int64\n",
      " 6   Detergents_Paper  440 non-null    int64\n",
      " 7   Delicassen        440 non-null    int64\n",
      "dtypes: int64(8)\n",
      "memory usage: 27.6 KB\n"
     ]
    }
   ],
   "source": [
    "customers.info()"
   ]
  },
  {
   "cell_type": "code",
   "execution_count": 4,
   "metadata": {
    "scrolled": true
   },
   "outputs": [
    {
     "data": {
      "text/plain": [
       "Index(['Channel', 'Region', 'Fresh', 'Milk', 'Grocery', 'Frozen',\n",
       "       'Detergents_Paper', 'Delicassen'],\n",
       "      dtype='object')"
      ]
     },
     "execution_count": 4,
     "metadata": {},
     "output_type": "execute_result"
    }
   ],
   "source": [
    "# Your code here:\n",
    "customers.columns   # se observan las columnas"
   ]
  },
  {
   "cell_type": "code",
   "execution_count": 8,
   "metadata": {},
   "outputs": [
    {
     "data": {
      "text/plain": [
       "1    298\n",
       "2    142\n",
       "Name: Channel, dtype: int64"
      ]
     },
     "execution_count": 8,
     "metadata": {},
     "output_type": "execute_result"
    }
   ],
   "source": [
    "customers.Channel.value_counts()"
   ]
  },
  {
   "cell_type": "code",
   "execution_count": 9,
   "metadata": {},
   "outputs": [
    {
     "data": {
      "text/plain": [
       "3    316\n",
       "1     77\n",
       "2     47\n",
       "Name: Region, dtype: int64"
      ]
     },
     "execution_count": 9,
     "metadata": {},
     "output_type": "execute_result"
    }
   ],
   "source": [
    "customers.Region.value_counts()"
   ]
  },
  {
   "cell_type": "code",
   "execution_count": 12,
   "metadata": {},
   "outputs": [
    {
     "data": {
      "text/plain": [
       "9670     2\n",
       "3        2\n",
       "18044    2\n",
       "8040     2\n",
       "514      2\n",
       "        ..\n",
       "18827    1\n",
       "10405    1\n",
       "37036    1\n",
       "30379    1\n",
       "2787     1\n",
       "Name: Fresh, Length: 433, dtype: int64"
      ]
     },
     "execution_count": 12,
     "metadata": {},
     "output_type": "execute_result"
    }
   ],
   "source": [
    "customers.Fresh.value_counts()"
   ]
  },
  {
   "cell_type": "code",
   "execution_count": 13,
   "metadata": {
    "scrolled": true
   },
   "outputs": [
    {
     "data": {
      "text/plain": [
       "3045     2\n",
       "1610     2\n",
       "5139     2\n",
       "2428     2\n",
       "3587     2\n",
       "        ..\n",
       "1596     1\n",
       "7152     1\n",
       "13252    1\n",
       "4280     1\n",
       "1698     1\n",
       "Name: Milk, Length: 421, dtype: int64"
      ]
     },
     "execution_count": 13,
     "metadata": {},
     "output_type": "execute_result"
    }
   ],
   "source": [
    "customers.Milk.value_counts()"
   ]
  },
  {
   "cell_type": "code",
   "execution_count": 14,
   "metadata": {},
   "outputs": [
    {
     "data": {
      "text/plain": [
       "1664    2\n",
       "2062    2\n",
       "683     2\n",
       "3600    2\n",
       "6536    2\n",
       "       ..\n",
       "7305    1\n",
       "3343    1\n",
       "5034    1\n",
       "8282    1\n",
       "2510    1\n",
       "Name: Grocery, Length: 430, dtype: int64"
      ]
     },
     "execution_count": 14,
     "metadata": {},
     "output_type": "execute_result"
    }
   ],
   "source": [
    "customers.Grocery.value_counts()"
   ]
  },
  {
   "cell_type": "code",
   "execution_count": 15,
   "metadata": {},
   "outputs": [
    {
     "data": {
      "text/plain": [
       "2540    2\n",
       "425     2\n",
       "1285    2\n",
       "4324    2\n",
       "1619    2\n",
       "       ..\n",
       "2995    1\n",
       "321     1\n",
       "2279    1\n",
       "825     1\n",
       "65      1\n",
       "Name: Frozen, Length: 426, dtype: int64"
      ]
     },
     "execution_count": 15,
     "metadata": {},
     "output_type": "execute_result"
    }
   ],
   "source": [
    "customers.Frozen.value_counts()"
   ]
  },
  {
   "cell_type": "code",
   "execution_count": 16,
   "metadata": {},
   "outputs": [
    {
     "data": {
      "text/plain": [
       "118    2\n",
       "955    2\n",
       "256    2\n",
       "69     2\n",
       "918    2\n",
       "      ..\n",
       "516    1\n",
       "399    1\n",
       "51     1\n",
       "960    1\n",
       "477    1\n",
       "Name: Detergents_Paper, Length: 417, dtype: int64"
      ]
     },
     "execution_count": 16,
     "metadata": {},
     "output_type": "execute_result"
    }
   ],
   "source": [
    "customers.Detergents_Paper.value_counts()"
   ]
  },
  {
   "cell_type": "code",
   "execution_count": 17,
   "metadata": {},
   "outputs": [
    {
     "data": {
      "text/plain": [
       "3       4\n",
       "834     4\n",
       "548     3\n",
       "610     3\n",
       "395     3\n",
       "       ..\n",
       "318     1\n",
       "1450    1\n",
       "2616    1\n",
       "929     1\n",
       "52      1\n",
       "Name: Delicassen, Length: 403, dtype: int64"
      ]
     },
     "execution_count": 17,
     "metadata": {},
     "output_type": "execute_result"
    }
   ],
   "source": [
    "customers.Delicassen.value_counts()"
   ]
  },
  {
   "cell_type": "code",
   "execution_count": 18,
   "metadata": {},
   "outputs": [
    {
     "data": {
      "text/plain": [
       "Channel             0\n",
       "Region              0\n",
       "Fresh               0\n",
       "Milk                0\n",
       "Grocery             0\n",
       "Frozen              0\n",
       "Detergents_Paper    0\n",
       "Delicassen          0\n",
       "dtype: int64"
      ]
     },
     "execution_count": 18,
     "metadata": {},
     "output_type": "execute_result"
    }
   ],
   "source": [
    "customers.isnull().sum(axis = 0)"
   ]
  },
  {
   "cell_type": "code",
   "execution_count": 55,
   "metadata": {},
   "outputs": [
    {
     "data": {
      "text/html": [
       "<div>\n",
       "<style scoped>\n",
       "    .dataframe tbody tr th:only-of-type {\n",
       "        vertical-align: middle;\n",
       "    }\n",
       "\n",
       "    .dataframe tbody tr th {\n",
       "        vertical-align: top;\n",
       "    }\n",
       "\n",
       "    .dataframe thead th {\n",
       "        text-align: right;\n",
       "    }\n",
       "</style>\n",
       "<table border=\"1\" class=\"dataframe\">\n",
       "  <thead>\n",
       "    <tr style=\"text-align: right;\">\n",
       "      <th></th>\n",
       "      <th>Channel</th>\n",
       "      <th>Region</th>\n",
       "      <th>Fresh</th>\n",
       "      <th>Milk</th>\n",
       "      <th>Grocery</th>\n",
       "      <th>Frozen</th>\n",
       "      <th>Detergents_Paper</th>\n",
       "      <th>Delicassen</th>\n",
       "    </tr>\n",
       "  </thead>\n",
       "  <tbody>\n",
       "    <tr>\n",
       "      <th>count</th>\n",
       "      <td>440.000000</td>\n",
       "      <td>440.000000</td>\n",
       "      <td>440.000000</td>\n",
       "      <td>440.000000</td>\n",
       "      <td>440.000000</td>\n",
       "      <td>440.000000</td>\n",
       "      <td>440.000000</td>\n",
       "      <td>440.000000</td>\n",
       "    </tr>\n",
       "    <tr>\n",
       "      <th>mean</th>\n",
       "      <td>1.322727</td>\n",
       "      <td>2.543182</td>\n",
       "      <td>12000.297727</td>\n",
       "      <td>5796.265909</td>\n",
       "      <td>7951.277273</td>\n",
       "      <td>3071.931818</td>\n",
       "      <td>2881.493182</td>\n",
       "      <td>1524.870455</td>\n",
       "    </tr>\n",
       "    <tr>\n",
       "      <th>std</th>\n",
       "      <td>0.468052</td>\n",
       "      <td>0.774272</td>\n",
       "      <td>12647.328865</td>\n",
       "      <td>7380.377175</td>\n",
       "      <td>9503.162829</td>\n",
       "      <td>4854.673333</td>\n",
       "      <td>4767.854448</td>\n",
       "      <td>2820.105937</td>\n",
       "    </tr>\n",
       "    <tr>\n",
       "      <th>min</th>\n",
       "      <td>1.000000</td>\n",
       "      <td>1.000000</td>\n",
       "      <td>3.000000</td>\n",
       "      <td>55.000000</td>\n",
       "      <td>3.000000</td>\n",
       "      <td>25.000000</td>\n",
       "      <td>3.000000</td>\n",
       "      <td>3.000000</td>\n",
       "    </tr>\n",
       "    <tr>\n",
       "      <th>25%</th>\n",
       "      <td>1.000000</td>\n",
       "      <td>2.000000</td>\n",
       "      <td>3127.750000</td>\n",
       "      <td>1533.000000</td>\n",
       "      <td>2153.000000</td>\n",
       "      <td>742.250000</td>\n",
       "      <td>256.750000</td>\n",
       "      <td>408.250000</td>\n",
       "    </tr>\n",
       "    <tr>\n",
       "      <th>50%</th>\n",
       "      <td>1.000000</td>\n",
       "      <td>3.000000</td>\n",
       "      <td>8504.000000</td>\n",
       "      <td>3627.000000</td>\n",
       "      <td>4755.500000</td>\n",
       "      <td>1526.000000</td>\n",
       "      <td>816.500000</td>\n",
       "      <td>965.500000</td>\n",
       "    </tr>\n",
       "    <tr>\n",
       "      <th>75%</th>\n",
       "      <td>2.000000</td>\n",
       "      <td>3.000000</td>\n",
       "      <td>16933.750000</td>\n",
       "      <td>7190.250000</td>\n",
       "      <td>10655.750000</td>\n",
       "      <td>3554.250000</td>\n",
       "      <td>3922.000000</td>\n",
       "      <td>1820.250000</td>\n",
       "    </tr>\n",
       "    <tr>\n",
       "      <th>max</th>\n",
       "      <td>2.000000</td>\n",
       "      <td>3.000000</td>\n",
       "      <td>112151.000000</td>\n",
       "      <td>73498.000000</td>\n",
       "      <td>92780.000000</td>\n",
       "      <td>60869.000000</td>\n",
       "      <td>40827.000000</td>\n",
       "      <td>47943.000000</td>\n",
       "    </tr>\n",
       "  </tbody>\n",
       "</table>\n",
       "</div>"
      ],
      "text/plain": [
       "          Channel      Region          Fresh          Milk       Grocery  \\\n",
       "count  440.000000  440.000000     440.000000    440.000000    440.000000   \n",
       "mean     1.322727    2.543182   12000.297727   5796.265909   7951.277273   \n",
       "std      0.468052    0.774272   12647.328865   7380.377175   9503.162829   \n",
       "min      1.000000    1.000000       3.000000     55.000000      3.000000   \n",
       "25%      1.000000    2.000000    3127.750000   1533.000000   2153.000000   \n",
       "50%      1.000000    3.000000    8504.000000   3627.000000   4755.500000   \n",
       "75%      2.000000    3.000000   16933.750000   7190.250000  10655.750000   \n",
       "max      2.000000    3.000000  112151.000000  73498.000000  92780.000000   \n",
       "\n",
       "             Frozen  Detergents_Paper    Delicassen  \n",
       "count    440.000000        440.000000    440.000000  \n",
       "mean    3071.931818       2881.493182   1524.870455  \n",
       "std     4854.673333       4767.854448   2820.105937  \n",
       "min       25.000000          3.000000      3.000000  \n",
       "25%      742.250000        256.750000    408.250000  \n",
       "50%     1526.000000        816.500000    965.500000  \n",
       "75%     3554.250000       3922.000000   1820.250000  \n",
       "max    60869.000000      40827.000000  47943.000000  "
      ]
     },
     "execution_count": 55,
     "metadata": {},
     "output_type": "execute_result"
    }
   ],
   "source": [
    "customers.describe()"
   ]
  },
  {
   "cell_type": "code",
   "execution_count": 20,
   "metadata": {},
   "outputs": [
    {
     "data": {
      "text/html": [
       "<style type=\"text/css\">\n",
       "#T_7ed37_row0_col0, #T_7ed37_row1_col1, #T_7ed37_row2_col2, #T_7ed37_row3_col3, #T_7ed37_row4_col4, #T_7ed37_row5_col5, #T_7ed37_row6_col6, #T_7ed37_row7_col7 {\n",
       "  background-color: #b40426;\n",
       "  color: #f1f1f1;\n",
       "}\n",
       "#T_7ed37_row0_col1 {\n",
       "  background-color: #536edd;\n",
       "  color: #f1f1f1;\n",
       "}\n",
       "#T_7ed37_row0_col2, #T_7ed37_row0_col5, #T_7ed37_row1_col3, #T_7ed37_row1_col7, #T_7ed37_row5_col0, #T_7ed37_row5_col1, #T_7ed37_row5_col4, #T_7ed37_row5_col6 {\n",
       "  background-color: #3b4cc0;\n",
       "  color: #f1f1f1;\n",
       "}\n",
       "#T_7ed37_row0_col3 {\n",
       "  background-color: #cdd9ec;\n",
       "  color: #000000;\n",
       "}\n",
       "#T_7ed37_row0_col4 {\n",
       "  background-color: #f4c5ad;\n",
       "  color: #000000;\n",
       "}\n",
       "#T_7ed37_row0_col6 {\n",
       "  background-color: #f7b497;\n",
       "  color: #000000;\n",
       "}\n",
       "#T_7ed37_row0_col7 {\n",
       "  background-color: #3d50c3;\n",
       "  color: #f1f1f1;\n",
       "}\n",
       "#T_7ed37_row1_col0 {\n",
       "  background-color: #82a6fb;\n",
       "  color: #f1f1f1;\n",
       "}\n",
       "#T_7ed37_row1_col2 {\n",
       "  background-color: #799cf8;\n",
       "  color: #f1f1f1;\n",
       "}\n",
       "#T_7ed37_row1_col4 {\n",
       "  background-color: #485fd1;\n",
       "  color: #f1f1f1;\n",
       "}\n",
       "#T_7ed37_row1_col5 {\n",
       "  background-color: #6a8bef;\n",
       "  color: #f1f1f1;\n",
       "}\n",
       "#T_7ed37_row1_col6 {\n",
       "  background-color: #5e7de7;\n",
       "  color: #f1f1f1;\n",
       "}\n",
       "#T_7ed37_row2_col0, #T_7ed37_row4_col1 {\n",
       "  background-color: #4358cb;\n",
       "  color: #f1f1f1;\n",
       "}\n",
       "#T_7ed37_row2_col1 {\n",
       "  background-color: #516ddb;\n",
       "  color: #f1f1f1;\n",
       "}\n",
       "#T_7ed37_row2_col3 {\n",
       "  background-color: #506bda;\n",
       "  color: #f1f1f1;\n",
       "}\n",
       "#T_7ed37_row2_col4, #T_7ed37_row2_col6, #T_7ed37_row6_col7 {\n",
       "  background-color: #4257c9;\n",
       "  color: #f1f1f1;\n",
       "}\n",
       "#T_7ed37_row2_col5 {\n",
       "  background-color: #d1dae9;\n",
       "  color: #000000;\n",
       "}\n",
       "#T_7ed37_row2_col7 {\n",
       "  background-color: #7ea1fa;\n",
       "  color: #f1f1f1;\n",
       "}\n",
       "#T_7ed37_row3_col0 {\n",
       "  background-color: #ead5c9;\n",
       "  color: #000000;\n",
       "}\n",
       "#T_7ed37_row3_col1 {\n",
       "  background-color: #4a63d3;\n",
       "  color: #f1f1f1;\n",
       "}\n",
       "#T_7ed37_row3_col2 {\n",
       "  background-color: #86a9fc;\n",
       "  color: #f1f1f1;\n",
       "}\n",
       "#T_7ed37_row3_col4 {\n",
       "  background-color: #f59d7e;\n",
       "  color: #000000;\n",
       "}\n",
       "#T_7ed37_row3_col5 {\n",
       "  background-color: #94b6ff;\n",
       "  color: #000000;\n",
       "}\n",
       "#T_7ed37_row3_col6 {\n",
       "  background-color: #f7ac8e;\n",
       "  color: #000000;\n",
       "}\n",
       "#T_7ed37_row3_col7 {\n",
       "  background-color: #b9d0f9;\n",
       "  color: #000000;\n",
       "}\n",
       "#T_7ed37_row4_col0 {\n",
       "  background-color: #f7b599;\n",
       "  color: #000000;\n",
       "}\n",
       "#T_7ed37_row4_col2, #T_7ed37_row4_col5 {\n",
       "  background-color: #6485ec;\n",
       "  color: #f1f1f1;\n",
       "}\n",
       "#T_7ed37_row4_col3 {\n",
       "  background-color: #f6a586;\n",
       "  color: #000000;\n",
       "}\n",
       "#T_7ed37_row4_col6 {\n",
       "  background-color: #cc403a;\n",
       "  color: #f1f1f1;\n",
       "}\n",
       "#T_7ed37_row4_col7 {\n",
       "  background-color: #6f92f3;\n",
       "  color: #f1f1f1;\n",
       "}\n",
       "#T_7ed37_row5_col2 {\n",
       "  background-color: #ccd9ed;\n",
       "  color: #000000;\n",
       "}\n",
       "#T_7ed37_row5_col3 {\n",
       "  background-color: #5875e1;\n",
       "  color: #f1f1f1;\n",
       "}\n",
       "#T_7ed37_row5_col7 {\n",
       "  background-color: #b3cdfb;\n",
       "  color: #000000;\n",
       "}\n",
       "#T_7ed37_row6_col0 {\n",
       "  background-color: #f7ad90;\n",
       "  color: #000000;\n",
       "}\n",
       "#T_7ed37_row6_col1 {\n",
       "  background-color: #3f53c6;\n",
       "  color: #f1f1f1;\n",
       "}\n",
       "#T_7ed37_row6_col2 {\n",
       "  background-color: #4b64d5;\n",
       "  color: #f1f1f1;\n",
       "}\n",
       "#T_7ed37_row6_col3 {\n",
       "  background-color: #f6bda2;\n",
       "  color: #000000;\n",
       "}\n",
       "#T_7ed37_row6_col4 {\n",
       "  background-color: #cd423b;\n",
       "  color: #f1f1f1;\n",
       "}\n",
       "#T_7ed37_row6_col5 {\n",
       "  background-color: #4c66d6;\n",
       "  color: #f1f1f1;\n",
       "}\n",
       "#T_7ed37_row7_col0 {\n",
       "  background-color: #80a3fa;\n",
       "  color: #f1f1f1;\n",
       "}\n",
       "#T_7ed37_row7_col1 {\n",
       "  background-color: #4e68d8;\n",
       "  color: #f1f1f1;\n",
       "}\n",
       "#T_7ed37_row7_col2 {\n",
       "  background-color: #b1cbfc;\n",
       "  color: #000000;\n",
       "}\n",
       "#T_7ed37_row7_col3 {\n",
       "  background-color: #bbd1f8;\n",
       "  color: #000000;\n",
       "}\n",
       "#T_7ed37_row7_col4 {\n",
       "  background-color: #88abfd;\n",
       "  color: #000000;\n",
       "}\n",
       "#T_7ed37_row7_col5 {\n",
       "  background-color: #dbdcde;\n",
       "  color: #000000;\n",
       "}\n",
       "#T_7ed37_row7_col6 {\n",
       "  background-color: #7396f5;\n",
       "  color: #f1f1f1;\n",
       "}\n",
       "</style>\n",
       "<table id=\"T_7ed37\">\n",
       "  <thead>\n",
       "    <tr>\n",
       "      <th class=\"blank level0\" >&nbsp;</th>\n",
       "      <th id=\"T_7ed37_level0_col0\" class=\"col_heading level0 col0\" >Channel</th>\n",
       "      <th id=\"T_7ed37_level0_col1\" class=\"col_heading level0 col1\" >Region</th>\n",
       "      <th id=\"T_7ed37_level0_col2\" class=\"col_heading level0 col2\" >Fresh</th>\n",
       "      <th id=\"T_7ed37_level0_col3\" class=\"col_heading level0 col3\" >Milk</th>\n",
       "      <th id=\"T_7ed37_level0_col4\" class=\"col_heading level0 col4\" >Grocery</th>\n",
       "      <th id=\"T_7ed37_level0_col5\" class=\"col_heading level0 col5\" >Frozen</th>\n",
       "      <th id=\"T_7ed37_level0_col6\" class=\"col_heading level0 col6\" >Detergents_Paper</th>\n",
       "      <th id=\"T_7ed37_level0_col7\" class=\"col_heading level0 col7\" >Delicassen</th>\n",
       "    </tr>\n",
       "  </thead>\n",
       "  <tbody>\n",
       "    <tr>\n",
       "      <th id=\"T_7ed37_level0_row0\" class=\"row_heading level0 row0\" >Channel</th>\n",
       "      <td id=\"T_7ed37_row0_col0\" class=\"data row0 col0\" >1.000000</td>\n",
       "      <td id=\"T_7ed37_row0_col1\" class=\"data row0 col1\" >0.062028</td>\n",
       "      <td id=\"T_7ed37_row0_col2\" class=\"data row0 col2\" >-0.169172</td>\n",
       "      <td id=\"T_7ed37_row0_col3\" class=\"data row0 col3\" >0.460720</td>\n",
       "      <td id=\"T_7ed37_row0_col4\" class=\"data row0 col4\" >0.608792</td>\n",
       "      <td id=\"T_7ed37_row0_col5\" class=\"data row0 col5\" >-0.202046</td>\n",
       "      <td id=\"T_7ed37_row0_col6\" class=\"data row0 col6\" >0.636026</td>\n",
       "      <td id=\"T_7ed37_row0_col7\" class=\"data row0 col7\" >0.056011</td>\n",
       "    </tr>\n",
       "    <tr>\n",
       "      <th id=\"T_7ed37_level0_row1\" class=\"row_heading level0 row1\" >Region</th>\n",
       "      <td id=\"T_7ed37_row1_col0\" class=\"data row1 col0\" >0.062028</td>\n",
       "      <td id=\"T_7ed37_row1_col1\" class=\"data row1 col1\" >1.000000</td>\n",
       "      <td id=\"T_7ed37_row1_col2\" class=\"data row1 col2\" >0.055287</td>\n",
       "      <td id=\"T_7ed37_row1_col3\" class=\"data row1 col3\" >0.032288</td>\n",
       "      <td id=\"T_7ed37_row1_col4\" class=\"data row1 col4\" >0.007696</td>\n",
       "      <td id=\"T_7ed37_row1_col5\" class=\"data row1 col5\" >-0.021044</td>\n",
       "      <td id=\"T_7ed37_row1_col6\" class=\"data row1 col6\" >-0.001483</td>\n",
       "      <td id=\"T_7ed37_row1_col7\" class=\"data row1 col7\" >0.045212</td>\n",
       "    </tr>\n",
       "    <tr>\n",
       "      <th id=\"T_7ed37_level0_row2\" class=\"row_heading level0 row2\" >Fresh</th>\n",
       "      <td id=\"T_7ed37_row2_col0\" class=\"data row2 col0\" >-0.169172</td>\n",
       "      <td id=\"T_7ed37_row2_col1\" class=\"data row2 col1\" >0.055287</td>\n",
       "      <td id=\"T_7ed37_row2_col2\" class=\"data row2 col2\" >1.000000</td>\n",
       "      <td id=\"T_7ed37_row2_col3\" class=\"data row2 col3\" >0.100510</td>\n",
       "      <td id=\"T_7ed37_row2_col4\" class=\"data row2 col4\" >-0.011854</td>\n",
       "      <td id=\"T_7ed37_row2_col5\" class=\"data row2 col5\" >0.345881</td>\n",
       "      <td id=\"T_7ed37_row2_col6\" class=\"data row2 col6\" >-0.101953</td>\n",
       "      <td id=\"T_7ed37_row2_col7\" class=\"data row2 col7\" >0.244690</td>\n",
       "    </tr>\n",
       "    <tr>\n",
       "      <th id=\"T_7ed37_level0_row3\" class=\"row_heading level0 row3\" >Milk</th>\n",
       "      <td id=\"T_7ed37_row3_col0\" class=\"data row3 col0\" >0.460720</td>\n",
       "      <td id=\"T_7ed37_row3_col1\" class=\"data row3 col1\" >0.032288</td>\n",
       "      <td id=\"T_7ed37_row3_col2\" class=\"data row3 col2\" >0.100510</td>\n",
       "      <td id=\"T_7ed37_row3_col3\" class=\"data row3 col3\" >1.000000</td>\n",
       "      <td id=\"T_7ed37_row3_col4\" class=\"data row3 col4\" >0.728335</td>\n",
       "      <td id=\"T_7ed37_row3_col5\" class=\"data row3 col5\" >0.123994</td>\n",
       "      <td id=\"T_7ed37_row3_col6\" class=\"data row3 col6\" >0.661816</td>\n",
       "      <td id=\"T_7ed37_row3_col7\" class=\"data row3 col7\" >0.406368</td>\n",
       "    </tr>\n",
       "    <tr>\n",
       "      <th id=\"T_7ed37_level0_row4\" class=\"row_heading level0 row4\" >Grocery</th>\n",
       "      <td id=\"T_7ed37_row4_col0\" class=\"data row4 col0\" >0.608792</td>\n",
       "      <td id=\"T_7ed37_row4_col1\" class=\"data row4 col1\" >0.007696</td>\n",
       "      <td id=\"T_7ed37_row4_col2\" class=\"data row4 col2\" >-0.011854</td>\n",
       "      <td id=\"T_7ed37_row4_col3\" class=\"data row4 col3\" >0.728335</td>\n",
       "      <td id=\"T_7ed37_row4_col4\" class=\"data row4 col4\" >1.000000</td>\n",
       "      <td id=\"T_7ed37_row4_col5\" class=\"data row4 col5\" >-0.040193</td>\n",
       "      <td id=\"T_7ed37_row4_col6\" class=\"data row4 col6\" >0.924641</td>\n",
       "      <td id=\"T_7ed37_row4_col7\" class=\"data row4 col7\" >0.205497</td>\n",
       "    </tr>\n",
       "    <tr>\n",
       "      <th id=\"T_7ed37_level0_row5\" class=\"row_heading level0 row5\" >Frozen</th>\n",
       "      <td id=\"T_7ed37_row5_col0\" class=\"data row5 col0\" >-0.202046</td>\n",
       "      <td id=\"T_7ed37_row5_col1\" class=\"data row5 col1\" >-0.021044</td>\n",
       "      <td id=\"T_7ed37_row5_col2\" class=\"data row5 col2\" >0.345881</td>\n",
       "      <td id=\"T_7ed37_row5_col3\" class=\"data row5 col3\" >0.123994</td>\n",
       "      <td id=\"T_7ed37_row5_col4\" class=\"data row5 col4\" >-0.040193</td>\n",
       "      <td id=\"T_7ed37_row5_col5\" class=\"data row5 col5\" >1.000000</td>\n",
       "      <td id=\"T_7ed37_row5_col6\" class=\"data row5 col6\" >-0.131525</td>\n",
       "      <td id=\"T_7ed37_row5_col7\" class=\"data row5 col7\" >0.390947</td>\n",
       "    </tr>\n",
       "    <tr>\n",
       "      <th id=\"T_7ed37_level0_row6\" class=\"row_heading level0 row6\" >Detergents_Paper</th>\n",
       "      <td id=\"T_7ed37_row6_col0\" class=\"data row6 col0\" >0.636026</td>\n",
       "      <td id=\"T_7ed37_row6_col1\" class=\"data row6 col1\" >-0.001483</td>\n",
       "      <td id=\"T_7ed37_row6_col2\" class=\"data row6 col2\" >-0.101953</td>\n",
       "      <td id=\"T_7ed37_row6_col3\" class=\"data row6 col3\" >0.661816</td>\n",
       "      <td id=\"T_7ed37_row6_col4\" class=\"data row6 col4\" >0.924641</td>\n",
       "      <td id=\"T_7ed37_row6_col5\" class=\"data row6 col5\" >-0.131525</td>\n",
       "      <td id=\"T_7ed37_row6_col6\" class=\"data row6 col6\" >1.000000</td>\n",
       "      <td id=\"T_7ed37_row6_col7\" class=\"data row6 col7\" >0.069291</td>\n",
       "    </tr>\n",
       "    <tr>\n",
       "      <th id=\"T_7ed37_level0_row7\" class=\"row_heading level0 row7\" >Delicassen</th>\n",
       "      <td id=\"T_7ed37_row7_col0\" class=\"data row7 col0\" >0.056011</td>\n",
       "      <td id=\"T_7ed37_row7_col1\" class=\"data row7 col1\" >0.045212</td>\n",
       "      <td id=\"T_7ed37_row7_col2\" class=\"data row7 col2\" >0.244690</td>\n",
       "      <td id=\"T_7ed37_row7_col3\" class=\"data row7 col3\" >0.406368</td>\n",
       "      <td id=\"T_7ed37_row7_col4\" class=\"data row7 col4\" >0.205497</td>\n",
       "      <td id=\"T_7ed37_row7_col5\" class=\"data row7 col5\" >0.390947</td>\n",
       "      <td id=\"T_7ed37_row7_col6\" class=\"data row7 col6\" >0.069291</td>\n",
       "      <td id=\"T_7ed37_row7_col7\" class=\"data row7 col7\" >1.000000</td>\n",
       "    </tr>\n",
       "  </tbody>\n",
       "</table>\n"
      ],
      "text/plain": [
       "<pandas.io.formats.style.Styler at 0x210984fae60>"
      ]
     },
     "execution_count": 20,
     "metadata": {},
     "output_type": "execute_result"
    }
   ],
   "source": [
    "#You code here\n",
    "corr = customers.corr()\n",
    "corr.style.background_gradient(cmap='coolwarm')"
   ]
  },
  {
   "cell_type": "code",
   "execution_count": 22,
   "metadata": {},
   "outputs": [
    {
     "data": {
      "text/plain": [
       "Channel              0.760951\n",
       "Region              -1.283627\n",
       "Fresh                2.561323\n",
       "Milk                 4.053755\n",
       "Grocery              3.587429\n",
       "Frozen               5.907986\n",
       "Detergents_Paper     3.631851\n",
       "Delicassen          11.151586\n",
       "dtype: float64"
      ]
     },
     "execution_count": 22,
     "metadata": {},
     "output_type": "execute_result"
    }
   ],
   "source": [
    "#You code here\n",
    "customers.skew(axis = 0, skipna = True)"
   ]
  },
  {
   "cell_type": "code",
   "execution_count": 58,
   "metadata": {
    "scrolled": false
   },
   "outputs": [
    {
     "data": {
      "text/plain": [
       "<AxesSubplot:>"
      ]
     },
     "execution_count": 58,
     "metadata": {},
     "output_type": "execute_result"
    },
    {
     "data": {
      "image/png": "[encoded data removed]",
      "text/plain": [
       "<Figure size 576x432 with 1 Axes>"
      ]
     },
     "metadata": {
      "needs_background": "light"
     },
     "output_type": "display_data"
    }
   ],
   "source": [
    "customers.boxplot(column = ['Fresh','Milk', 'Grocery', 'Frozen','Detergents_Paper','Delicassen'],figsize=(8,6))"
   ]
  },
  {
   "cell_type": "code",
   "execution_count": 46,
   "metadata": {},
   "outputs": [
    {
     "data": {
      "text/plain": [
       "(440, 8)"
      ]
     },
     "execution_count": 46,
     "metadata": {},
     "output_type": "execute_result"
    }
   ],
   "source": [
    "customers.shape"
   ]
  },
  {
   "cell_type": "markdown",
   "metadata": {},
   "source": [
    "**Your observations here**\n",
    "\n",
    "+ Las columnas tienen que ver con productos de supermercado. \n",
    "+ Los datos ya son numericos y tienen que ver con cantidades. Lo posible categórico tiene que ver con channel o region que ya está modificado\n",
    "+ No hay valores nulos\n",
    "+ Detergents_Paper y Grocery /Grocery y Milk tienen una alta correlacion.\n",
    "+ La asimetria indica que todas las columnas excepto Channel y Region que son altamente asimetricas.\n",
    "+ Hay bastantes outliers en las columnas\n"
   ]
  },
  {
   "cell_type": "markdown",
   "metadata": {},
   "source": [
    "# Challenge 2 - Data Cleaning and Transformation\n",
    "\n",
    "If your conclusion from the previous challenge is the data need cleaning/transformation, do it in the cells below. However, if your conclusion is the data need not be cleaned or transformed, feel free to skip this challenge. But if you do choose the latter, please provide rationale."
   ]
  },
  {
   "cell_type": "code",
   "execution_count": 49,
   "metadata": {},
   "outputs": [],
   "source": [
    "z_scores = stats.zscore(customers)\n",
    "\n",
    "abs_z_scores = np.abs(z_scores)\n",
    "filtered_entries = (abs_z_scores < 3).all(axis=1)\n",
    "customer_out = customers[filtered_entries]"
   ]
  },
  {
   "cell_type": "code",
   "execution_count": 50,
   "metadata": {},
   "outputs": [
    {
     "data": {
      "text/plain": [
       "(414, 8)"
      ]
     },
     "execution_count": 50,
     "metadata": {},
     "output_type": "execute_result"
    }
   ],
   "source": [
    "customer_out.shape"
   ]
  },
  {
   "cell_type": "code",
   "execution_count": 51,
   "metadata": {},
   "outputs": [
    {
     "data": {
      "text/html": [
       "<style type=\"text/css\">\n",
       "#T_59e0b_row0_col0, #T_59e0b_row1_col1, #T_59e0b_row2_col2, #T_59e0b_row3_col3, #T_59e0b_row4_col4, #T_59e0b_row5_col5, #T_59e0b_row6_col6, #T_59e0b_row7_col7 {\n",
       "  background-color: #b40426;\n",
       "  color: #f1f1f1;\n",
       "}\n",
       "#T_59e0b_row0_col1 {\n",
       "  background-color: #5b7ae5;\n",
       "  color: #f1f1f1;\n",
       "}\n",
       "#T_59e0b_row0_col2 {\n",
       "  background-color: #4f69d9;\n",
       "  color: #f1f1f1;\n",
       "}\n",
       "#T_59e0b_row0_col3 {\n",
       "  background-color: #f2c9b4;\n",
       "  color: #000000;\n",
       "}\n",
       "#T_59e0b_row0_col4 {\n",
       "  background-color: #f39475;\n",
       "  color: #000000;\n",
       "}\n",
       "#T_59e0b_row0_col5, #T_59e0b_row1_col7, #T_59e0b_row2_col3, #T_59e0b_row2_col6, #T_59e0b_row5_col0, #T_59e0b_row5_col1, #T_59e0b_row5_col4, #T_59e0b_row6_col2, #T_59e0b_row6_col5 {\n",
       "  background-color: #3b4cc0;\n",
       "  color: #f1f1f1;\n",
       "}\n",
       "#T_59e0b_row0_col6 {\n",
       "  background-color: #ee8669;\n",
       "  color: #f1f1f1;\n",
       "}\n",
       "#T_59e0b_row0_col7, #T_59e0b_row1_col5 {\n",
       "  background-color: #6e90f2;\n",
       "  color: #f1f1f1;\n",
       "}\n",
       "#T_59e0b_row1_col0, #T_59e0b_row1_col2 {\n",
       "  background-color: #8db0fe;\n",
       "  color: #000000;\n",
       "}\n",
       "#T_59e0b_row1_col3 {\n",
       "  background-color: #6180e9;\n",
       "  color: #f1f1f1;\n",
       "}\n",
       "#T_59e0b_row1_col4 {\n",
       "  background-color: #7295f4;\n",
       "  color: #f1f1f1;\n",
       "}\n",
       "#T_59e0b_row1_col6, #T_59e0b_row4_col7 {\n",
       "  background-color: #7ea1fa;\n",
       "  color: #f1f1f1;\n",
       "}\n",
       "#T_59e0b_row2_col0 {\n",
       "  background-color: #4b64d5;\n",
       "  color: #f1f1f1;\n",
       "}\n",
       "#T_59e0b_row2_col1 {\n",
       "  background-color: #5875e1;\n",
       "  color: #f1f1f1;\n",
       "}\n",
       "#T_59e0b_row2_col4, #T_59e0b_row5_col6 {\n",
       "  background-color: #3d50c3;\n",
       "  color: #f1f1f1;\n",
       "}\n",
       "#T_59e0b_row2_col5 {\n",
       "  background-color: #bcd2f7;\n",
       "  color: #000000;\n",
       "}\n",
       "#T_59e0b_row2_col7 {\n",
       "  background-color: #6282ea;\n",
       "  color: #f1f1f1;\n",
       "}\n",
       "#T_59e0b_row3_col0 {\n",
       "  background-color: #f6bfa6;\n",
       "  color: #000000;\n",
       "}\n",
       "#T_59e0b_row3_col1, #T_59e0b_row4_col1 {\n",
       "  background-color: #4961d2;\n",
       "  color: #f1f1f1;\n",
       "}\n",
       "#T_59e0b_row3_col2 {\n",
       "  background-color: #5a78e4;\n",
       "  color: #f1f1f1;\n",
       "}\n",
       "#T_59e0b_row3_col4 {\n",
       "  background-color: #f29274;\n",
       "  color: #f1f1f1;\n",
       "}\n",
       "#T_59e0b_row3_col5 {\n",
       "  background-color: #6687ed;\n",
       "  color: #f1f1f1;\n",
       "}\n",
       "#T_59e0b_row3_col6 {\n",
       "  background-color: #f7ac8e;\n",
       "  color: #000000;\n",
       "}\n",
       "#T_59e0b_row3_col7 {\n",
       "  background-color: #aec9fc;\n",
       "  color: #000000;\n",
       "}\n",
       "#T_59e0b_row4_col0 {\n",
       "  background-color: #f29072;\n",
       "  color: #f1f1f1;\n",
       "}\n",
       "#T_59e0b_row4_col2 {\n",
       "  background-color: #4c66d6;\n",
       "  color: #f1f1f1;\n",
       "}\n",
       "#T_59e0b_row4_col3 {\n",
       "  background-color: #f4987a;\n",
       "  color: #000000;\n",
       "}\n",
       "#T_59e0b_row4_col5 {\n",
       "  background-color: #465ecf;\n",
       "  color: #f1f1f1;\n",
       "}\n",
       "#T_59e0b_row4_col6 {\n",
       "  background-color: #d85646;\n",
       "  color: #f1f1f1;\n",
       "}\n",
       "#T_59e0b_row5_col2 {\n",
       "  background-color: #bfd3f6;\n",
       "  color: #000000;\n",
       "}\n",
       "#T_59e0b_row5_col3, #T_59e0b_row7_col1 {\n",
       "  background-color: #4a63d3;\n",
       "  color: #f1f1f1;\n",
       "}\n",
       "#T_59e0b_row5_col7 {\n",
       "  background-color: #5673e0;\n",
       "  color: #f1f1f1;\n",
       "}\n",
       "#T_59e0b_row6_col0 {\n",
       "  background-color: #ef886b;\n",
       "  color: #f1f1f1;\n",
       "}\n",
       "#T_59e0b_row6_col1 {\n",
       "  background-color: #485fd1;\n",
       "  color: #f1f1f1;\n",
       "}\n",
       "#T_59e0b_row6_col3 {\n",
       "  background-color: #f7b89c;\n",
       "  color: #000000;\n",
       "}\n",
       "#T_59e0b_row6_col4 {\n",
       "  background-color: #d95847;\n",
       "  color: #f1f1f1;\n",
       "}\n",
       "#T_59e0b_row6_col7 {\n",
       "  background-color: #5977e3;\n",
       "  color: #f1f1f1;\n",
       "}\n",
       "#T_59e0b_row7_col0 {\n",
       "  background-color: #aac7fd;\n",
       "  color: #000000;\n",
       "}\n",
       "#T_59e0b_row7_col2 {\n",
       "  background-color: #a3c2fe;\n",
       "  color: #000000;\n",
       "}\n",
       "#T_59e0b_row7_col3 {\n",
       "  background-color: #c9d7f0;\n",
       "  color: #000000;\n",
       "}\n",
       "#T_59e0b_row7_col4 {\n",
       "  background-color: #afcafc;\n",
       "  color: #000000;\n",
       "}\n",
       "#T_59e0b_row7_col5 {\n",
       "  background-color: #98b9ff;\n",
       "  color: #000000;\n",
       "}\n",
       "#T_59e0b_row7_col6 {\n",
       "  background-color: #9dbdff;\n",
       "  color: #000000;\n",
       "}\n",
       "</style>\n",
       "<table id=\"T_59e0b\">\n",
       "  <thead>\n",
       "    <tr>\n",
       "      <th class=\"blank level0\" >&nbsp;</th>\n",
       "      <th id=\"T_59e0b_level0_col0\" class=\"col_heading level0 col0\" >Channel</th>\n",
       "      <th id=\"T_59e0b_level0_col1\" class=\"col_heading level0 col1\" >Region</th>\n",
       "      <th id=\"T_59e0b_level0_col2\" class=\"col_heading level0 col2\" >Fresh</th>\n",
       "      <th id=\"T_59e0b_level0_col3\" class=\"col_heading level0 col3\" >Milk</th>\n",
       "      <th id=\"T_59e0b_level0_col4\" class=\"col_heading level0 col4\" >Grocery</th>\n",
       "      <th id=\"T_59e0b_level0_col5\" class=\"col_heading level0 col5\" >Frozen</th>\n",
       "      <th id=\"T_59e0b_level0_col6\" class=\"col_heading level0 col6\" >Detergents_Paper</th>\n",
       "      <th id=\"T_59e0b_level0_col7\" class=\"col_heading level0 col7\" >Delicassen</th>\n",
       "    </tr>\n",
       "  </thead>\n",
       "  <tbody>\n",
       "    <tr>\n",
       "      <th id=\"T_59e0b_level0_row0\" class=\"row_heading level0 row0\" >Channel</th>\n",
       "      <td id=\"T_59e0b_row0_col0\" class=\"data row0 col0\" >1.000000</td>\n",
       "      <td id=\"T_59e0b_row0_col1\" class=\"data row0 col1\" >0.072592</td>\n",
       "      <td id=\"T_59e0b_row0_col2\" class=\"data row0 col2\" >-0.168044</td>\n",
       "      <td id=\"T_59e0b_row0_col3\" class=\"data row0 col3\" >0.558492</td>\n",
       "      <td id=\"T_59e0b_row0_col4\" class=\"data row0 col4\" >0.716810</td>\n",
       "      <td id=\"T_59e0b_row0_col5\" class=\"data row0 col5\" >-0.237060</td>\n",
       "      <td id=\"T_59e0b_row0_col6\" class=\"data row0 col6\" >0.742669</td>\n",
       "      <td id=\"T_59e0b_row0_col7\" class=\"data row0 col7\" >0.177331</td>\n",
       "    </tr>\n",
       "    <tr>\n",
       "      <th id=\"T_59e0b_level0_row1\" class=\"row_heading level0 row1\" >Region</th>\n",
       "      <td id=\"T_59e0b_row1_col0\" class=\"data row1 col0\" >0.072592</td>\n",
       "      <td id=\"T_59e0b_row1_col1\" class=\"data row1 col1\" >1.000000</td>\n",
       "      <td id=\"T_59e0b_row1_col2\" class=\"data row1 col2\" >0.061333</td>\n",
       "      <td id=\"T_59e0b_row1_col3\" class=\"data row1 col3\" >0.012667</td>\n",
       "      <td id=\"T_59e0b_row1_col4\" class=\"data row1 col4\" >0.014645</td>\n",
       "      <td id=\"T_59e0b_row1_col5\" class=\"data row1 col5\" >-0.037481</td>\n",
       "      <td id=\"T_59e0b_row1_col6\" class=\"data row1 col6\" >0.008983</td>\n",
       "      <td id=\"T_59e0b_row1_col7\" class=\"data row1 col7\" >0.016849</td>\n",
       "    </tr>\n",
       "    <tr>\n",
       "      <th id=\"T_59e0b_level0_row2\" class=\"row_heading level0 row2\" >Fresh</th>\n",
       "      <td id=\"T_59e0b_row2_col0\" class=\"data row2 col0\" >-0.168044</td>\n",
       "      <td id=\"T_59e0b_row2_col1\" class=\"data row2 col1\" >0.061333</td>\n",
       "      <td id=\"T_59e0b_row2_col2\" class=\"data row2 col2\" >1.000000</td>\n",
       "      <td id=\"T_59e0b_row2_col3\" class=\"data row2 col3\" >-0.126575</td>\n",
       "      <td id=\"T_59e0b_row2_col4\" class=\"data row2 col4\" >-0.179004</td>\n",
       "      <td id=\"T_59e0b_row2_col5\" class=\"data row2 col5\" >0.241618</td>\n",
       "      <td id=\"T_59e0b_row2_col6\" class=\"data row2 col6\" >-0.254487</td>\n",
       "      <td id=\"T_59e0b_row2_col7\" class=\"data row2 col7\" >0.142430</td>\n",
       "    </tr>\n",
       "    <tr>\n",
       "      <th id=\"T_59e0b_level0_row3\" class=\"row_heading level0 row3\" >Milk</th>\n",
       "      <td id=\"T_59e0b_row3_col0\" class=\"data row3 col0\" >0.558492</td>\n",
       "      <td id=\"T_59e0b_row3_col1\" class=\"data row3 col1\" >0.012667</td>\n",
       "      <td id=\"T_59e0b_row3_col2\" class=\"data row3 col2\" >-0.126575</td>\n",
       "      <td id=\"T_59e0b_row3_col3\" class=\"data row3 col3\" >1.000000</td>\n",
       "      <td id=\"T_59e0b_row3_col4\" class=\"data row3 col4\" >0.722141</td>\n",
       "      <td id=\"T_59e0b_row3_col5\" class=\"data row3 col5\" >-0.068356</td>\n",
       "      <td id=\"T_59e0b_row3_col6\" class=\"data row3 col6\" >0.622947</td>\n",
       "      <td id=\"T_59e0b_row3_col7\" class=\"data row3 col7\" >0.356101</td>\n",
       "    </tr>\n",
       "    <tr>\n",
       "      <th id=\"T_59e0b_level0_row4\" class=\"row_heading level0 row4\" >Grocery</th>\n",
       "      <td id=\"T_59e0b_row4_col0\" class=\"data row4 col0\" >0.716810</td>\n",
       "      <td id=\"T_59e0b_row4_col1\" class=\"data row4 col1\" >0.014645</td>\n",
       "      <td id=\"T_59e0b_row4_col2\" class=\"data row4 col2\" >-0.179004</td>\n",
       "      <td id=\"T_59e0b_row4_col3\" class=\"data row4 col3\" >0.722141</td>\n",
       "      <td id=\"T_59e0b_row4_col4\" class=\"data row4 col4\" >1.000000</td>\n",
       "      <td id=\"T_59e0b_row4_col5\" class=\"data row4 col5\" >-0.190469</td>\n",
       "      <td id=\"T_59e0b_row4_col6\" class=\"data row4 col6\" >0.867060</td>\n",
       "      <td id=\"T_59e0b_row4_col7\" class=\"data row4 col7\" >0.223917</td>\n",
       "    </tr>\n",
       "    <tr>\n",
       "      <th id=\"T_59e0b_level0_row5\" class=\"row_heading level0 row5\" >Frozen</th>\n",
       "      <td id=\"T_59e0b_row5_col0\" class=\"data row5 col0\" >-0.237060</td>\n",
       "      <td id=\"T_59e0b_row5_col1\" class=\"data row5 col1\" >-0.037481</td>\n",
       "      <td id=\"T_59e0b_row5_col2\" class=\"data row5 col2\" >0.241618</td>\n",
       "      <td id=\"T_59e0b_row5_col3\" class=\"data row5 col3\" >-0.068356</td>\n",
       "      <td id=\"T_59e0b_row5_col4\" class=\"data row5 col4\" >-0.190469</td>\n",
       "      <td id=\"T_59e0b_row5_col5\" class=\"data row5 col5\" >1.000000</td>\n",
       "      <td id=\"T_59e0b_row5_col6\" class=\"data row5 col6\" >-0.240503</td>\n",
       "      <td id=\"T_59e0b_row5_col7\" class=\"data row5 col7\" >0.108489</td>\n",
       "    </tr>\n",
       "    <tr>\n",
       "      <th id=\"T_59e0b_level0_row6\" class=\"row_heading level0 row6\" >Detergents_Paper</th>\n",
       "      <td id=\"T_59e0b_row6_col0\" class=\"data row6 col0\" >0.742669</td>\n",
       "      <td id=\"T_59e0b_row6_col1\" class=\"data row6 col1\" >0.008983</td>\n",
       "      <td id=\"T_59e0b_row6_col2\" class=\"data row6 col2\" >-0.254487</td>\n",
       "      <td id=\"T_59e0b_row6_col3\" class=\"data row6 col3\" >0.622947</td>\n",
       "      <td id=\"T_59e0b_row6_col4\" class=\"data row6 col4\" >0.867060</td>\n",
       "      <td id=\"T_59e0b_row6_col5\" class=\"data row6 col5\" >-0.240503</td>\n",
       "      <td id=\"T_59e0b_row6_col6\" class=\"data row6 col6\" >1.000000</td>\n",
       "      <td id=\"T_59e0b_row6_col7\" class=\"data row6 col7\" >0.115172</td>\n",
       "    </tr>\n",
       "    <tr>\n",
       "      <th id=\"T_59e0b_level0_row7\" class=\"row_heading level0 row7\" >Delicassen</th>\n",
       "      <td id=\"T_59e0b_row7_col0\" class=\"data row7 col0\" >0.177331</td>\n",
       "      <td id=\"T_59e0b_row7_col1\" class=\"data row7 col1\" >0.016849</td>\n",
       "      <td id=\"T_59e0b_row7_col2\" class=\"data row7 col2\" >0.142430</td>\n",
       "      <td id=\"T_59e0b_row7_col3\" class=\"data row7 col3\" >0.356101</td>\n",
       "      <td id=\"T_59e0b_row7_col4\" class=\"data row7 col4\" >0.223917</td>\n",
       "      <td id=\"T_59e0b_row7_col5\" class=\"data row7 col5\" >0.108489</td>\n",
       "      <td id=\"T_59e0b_row7_col6\" class=\"data row7 col6\" >0.115172</td>\n",
       "      <td id=\"T_59e0b_row7_col7\" class=\"data row7 col7\" >1.000000</td>\n",
       "    </tr>\n",
       "  </tbody>\n",
       "</table>\n"
      ],
      "text/plain": [
       "<pandas.io.formats.style.Styler at 0x210b1ad4820>"
      ]
     },
     "execution_count": 51,
     "metadata": {},
     "output_type": "execute_result"
    }
   ],
   "source": [
    "corr = customer_out.corr()\n",
    "corr.style.background_gradient(cmap='coolwarm')"
   ]
  },
  {
   "cell_type": "code",
   "execution_count": 54,
   "metadata": {},
   "outputs": [
    {
     "data": {
      "text/html": [
       "<div>\n",
       "<style scoped>\n",
       "    .dataframe tbody tr th:only-of-type {\n",
       "        vertical-align: middle;\n",
       "    }\n",
       "\n",
       "    .dataframe tbody tr th {\n",
       "        vertical-align: top;\n",
       "    }\n",
       "\n",
       "    .dataframe thead th {\n",
       "        text-align: right;\n",
       "    }\n",
       "</style>\n",
       "<table border=\"1\" class=\"dataframe\">\n",
       "  <thead>\n",
       "    <tr style=\"text-align: right;\">\n",
       "      <th></th>\n",
       "      <th>Channel</th>\n",
       "      <th>Region</th>\n",
       "      <th>Fresh</th>\n",
       "      <th>Milk</th>\n",
       "      <th>Grocery</th>\n",
       "      <th>Frozen</th>\n",
       "      <th>Detergents_Paper</th>\n",
       "      <th>Delicassen</th>\n",
       "    </tr>\n",
       "  </thead>\n",
       "  <tbody>\n",
       "    <tr>\n",
       "      <th>count</th>\n",
       "      <td>414.000000</td>\n",
       "      <td>414.000000</td>\n",
       "      <td>414.000000</td>\n",
       "      <td>414.000000</td>\n",
       "      <td>414.000000</td>\n",
       "      <td>414.000000</td>\n",
       "      <td>414.000000</td>\n",
       "      <td>414.000000</td>\n",
       "    </tr>\n",
       "    <tr>\n",
       "      <th>mean</th>\n",
       "      <td>1.314010</td>\n",
       "      <td>2.548309</td>\n",
       "      <td>10711.758454</td>\n",
       "      <td>4871.920290</td>\n",
       "      <td>6814.043478</td>\n",
       "      <td>2549.898551</td>\n",
       "      <td>2373.393720</td>\n",
       "      <td>1237.939614</td>\n",
       "    </tr>\n",
       "    <tr>\n",
       "      <th>std</th>\n",
       "      <td>0.464682</td>\n",
       "      <td>0.769475</td>\n",
       "      <td>9819.217756</td>\n",
       "      <td>4555.665546</td>\n",
       "      <td>6456.160715</td>\n",
       "      <td>2916.683284</td>\n",
       "      <td>3208.707909</td>\n",
       "      <td>1217.399162</td>\n",
       "    </tr>\n",
       "    <tr>\n",
       "      <th>min</th>\n",
       "      <td>1.000000</td>\n",
       "      <td>1.000000</td>\n",
       "      <td>3.000000</td>\n",
       "      <td>55.000000</td>\n",
       "      <td>3.000000</td>\n",
       "      <td>25.000000</td>\n",
       "      <td>3.000000</td>\n",
       "      <td>3.000000</td>\n",
       "    </tr>\n",
       "    <tr>\n",
       "      <th>25%</th>\n",
       "      <td>1.000000</td>\n",
       "      <td>2.000000</td>\n",
       "      <td>3063.250000</td>\n",
       "      <td>1477.750000</td>\n",
       "      <td>2116.000000</td>\n",
       "      <td>676.750000</td>\n",
       "      <td>252.750000</td>\n",
       "      <td>395.000000</td>\n",
       "    </tr>\n",
       "    <tr>\n",
       "      <th>50%</th>\n",
       "      <td>1.000000</td>\n",
       "      <td>3.000000</td>\n",
       "      <td>8040.000000</td>\n",
       "      <td>3530.000000</td>\n",
       "      <td>4528.000000</td>\n",
       "      <td>1447.000000</td>\n",
       "      <td>772.000000</td>\n",
       "      <td>881.000000</td>\n",
       "    </tr>\n",
       "    <tr>\n",
       "      <th>75%</th>\n",
       "      <td>2.000000</td>\n",
       "      <td>3.000000</td>\n",
       "      <td>15657.000000</td>\n",
       "      <td>6908.500000</td>\n",
       "      <td>9762.250000</td>\n",
       "      <td>3204.250000</td>\n",
       "      <td>3660.500000</td>\n",
       "      <td>1681.750000</td>\n",
       "    </tr>\n",
       "    <tr>\n",
       "      <th>max</th>\n",
       "      <td>2.000000</td>\n",
       "      <td>3.000000</td>\n",
       "      <td>49063.000000</td>\n",
       "      <td>25862.000000</td>\n",
       "      <td>34792.000000</td>\n",
       "      <td>16919.000000</td>\n",
       "      <td>17120.000000</td>\n",
       "      <td>7844.000000</td>\n",
       "    </tr>\n",
       "  </tbody>\n",
       "</table>\n",
       "</div>"
      ],
      "text/plain": [
       "          Channel      Region         Fresh          Milk       Grocery  \\\n",
       "count  414.000000  414.000000    414.000000    414.000000    414.000000   \n",
       "mean     1.314010    2.548309  10711.758454   4871.920290   6814.043478   \n",
       "std      0.464682    0.769475   9819.217756   4555.665546   6456.160715   \n",
       "min      1.000000    1.000000      3.000000     55.000000      3.000000   \n",
       "25%      1.000000    2.000000   3063.250000   1477.750000   2116.000000   \n",
       "50%      1.000000    3.000000   8040.000000   3530.000000   4528.000000   \n",
       "75%      2.000000    3.000000  15657.000000   6908.500000   9762.250000   \n",
       "max      2.000000    3.000000  49063.000000  25862.000000  34792.000000   \n",
       "\n",
       "             Frozen  Detergents_Paper   Delicassen  \n",
       "count    414.000000        414.000000   414.000000  \n",
       "mean    2549.898551       2373.393720  1237.939614  \n",
       "std     2916.683284       3208.707909  1217.399162  \n",
       "min       25.000000          3.000000     3.000000  \n",
       "25%      676.750000        252.750000   395.000000  \n",
       "50%     1447.000000        772.000000   881.000000  \n",
       "75%     3204.250000       3660.500000  1681.750000  \n",
       "max    16919.000000      17120.000000  7844.000000  "
      ]
     },
     "execution_count": 54,
     "metadata": {},
     "output_type": "execute_result"
    }
   ],
   "source": [
    "customer_out.describe()"
   ]
  },
  {
   "cell_type": "code",
   "execution_count": 59,
   "metadata": {},
   "outputs": [
    {
     "data": {
      "text/plain": [
       "<AxesSubplot:>"
      ]
     },
     "execution_count": 59,
     "metadata": {},
     "output_type": "execute_result"
    },
    {
     "data": {
      "image/png": "[encoded data removed]",
      "text/plain": [
       "<Figure size 576x432 with 1 Axes>"
      ]
     },
     "metadata": {
      "needs_background": "light"
     },
     "output_type": "display_data"
    }
   ],
   "source": [
    "customer_out.boxplot(column = ['Fresh','Milk', 'Grocery', 'Frozen','Detergents_Paper','Delicassen'],figsize=(8,6))"
   ]
  },
  {
   "cell_type": "markdown",
   "metadata": {},
   "source": [
    "**Your comment here**\n",
    "\n",
    "+ Voy a eliminar outliers para que los datos tengan mejor calidad. Pasamos de un shape de (440, 8) a uno de (414,8) por lo que solo perdemos el 6% de los datos\n",
    "+ El nivel de correlacion entre los campos Grocery, Detergents_Paper, Milk se mantienen estables\n"
   ]
  },
  {
   "cell_type": "markdown",
   "metadata": {},
   "source": [
    "# Challenge 3 - Data Preprocessing\n",
    "\n",
    "One problem with the dataset is the value ranges are remarkably different across various categories (e.g. `Fresh` and `Grocery` compared to `Detergents_Paper` and `Delicassen`). If you made this observation in the first challenge, you've done a great job! This means you not only completed the bonus questions in the previous Supervised Learning lab but also researched deep into [*feature scaling*](https://en.wikipedia.org/wiki/Feature_scaling). Keep on the good work!\n",
    "\n",
    "Diverse value ranges in different features could cause issues in our clustering. The way to reduce the problem is through feature scaling. We'll use this technique again with this dataset.\n",
    "\n",
    "#### We will use the `StandardScaler` from `sklearn.preprocessing` and scale our data. Read more about `StandardScaler` [here](https://scikit-learn.org/stable/modules/generated/sklearn.preprocessing.StandardScaler.html#sklearn.preprocessing.StandardScaler).\n",
    "\n",
    "*After scaling your data, assign the transformed data to a new variable `customers_scale`.*"
   ]
  },
  {
   "cell_type": "code",
   "execution_count": null,
   "metadata": {},
   "outputs": [],
   "source": [
    "# Your import here:\n",
    "\n",
    "from sklearn.preprocessing import StandardScaler\n",
    "\n",
    "# Your code here:\n"
   ]
  },
  {
   "cell_type": "code",
   "execution_count": null,
   "metadata": {},
   "outputs": [],
   "source": []
  },
  {
   "cell_type": "markdown",
   "metadata": {},
   "source": [
    "# Challenge 4 - Data Clustering with K-Means\n",
    "\n",
    "Now let's cluster the data with K-Means first. Initiate the K-Means model, then fit your scaled data. In the data returned from the `.fit` method, there is an attribute called `labels_` which is the cluster number assigned to each data record. What you can do is to assign these labels back to `customers` in a new column called `customers['labels']`. Then you'll see the cluster results of the original data."
   ]
  },
  {
   "cell_type": "code",
   "execution_count": 1,
   "metadata": {
    "scrolled": true
   },
   "outputs": [],
   "source": [
    "from sklearn.cluster import KMeans\n",
    "\n",
    "# Your code here:\n"
   ]
  },
  {
   "cell_type": "markdown",
   "metadata": {},
   "source": [
    "Count the values in `labels`."
   ]
  },
  {
   "cell_type": "code",
   "execution_count": null,
   "metadata": {},
   "outputs": [],
   "source": [
    "# Your code here:\n"
   ]
  },
  {
   "cell_type": "markdown",
   "metadata": {},
   "source": [
    "# Challenge 5 - Data Clustering with DBSCAN\n",
    "\n",
    "Now let's cluster the data using DBSCAN. Use `DBSCAN(eps=0.5)` to initiate the model, then fit your scaled data. In the data returned from the `.fit` method, assign the `labels_` back to `customers['labels_DBSCAN']`. Now your original data have two labels, one from K-Means and the other from DBSCAN."
   ]
  },
  {
   "cell_type": "code",
   "execution_count": null,
   "metadata": {
    "scrolled": true
   },
   "outputs": [],
   "source": [
    "# Your code here\n",
    "from sklearn.cluster import DBSCAN \n"
   ]
  },
  {
   "cell_type": "markdown",
   "metadata": {},
   "source": [
    "Count the values in `labels_DBSCAN`."
   ]
  },
  {
   "cell_type": "code",
   "execution_count": null,
   "metadata": {},
   "outputs": [],
   "source": [
    "# Your code here\n"
   ]
  },
  {
   "cell_type": "markdown",
   "metadata": {},
   "source": [
    "# Challenge 6 - Compare K-Means with DBSCAN\n",
    "\n",
    "Now we want to visually compare how K-Means and DBSCAN have clustered our data. We will create scatter plots for several columns. For each of the following column pairs, plot a scatter plot using `labels` and another using `labels_DBSCAN`. Put them side by side to compare. Which clustering algorithm makes better sense?\n",
    "\n",
    "Columns to visualize:\n",
    "\n",
    "* `Detergents_Paper` as X and `Milk` as y\n",
    "* `Grocery` as X and `Fresh` as y\n",
    "* `Frozen` as X and `Delicassen` as y"
   ]
  },
  {
   "cell_type": "markdown",
   "metadata": {},
   "source": [
    "Visualize `Detergents_Paper` as X and `Milk` as y by `labels` and `labels_DBSCAN` respectively"
   ]
  },
  {
   "cell_type": "code",
   "execution_count": null,
   "metadata": {},
   "outputs": [],
   "source": [
    "# Your code here:\n"
   ]
  },
  {
   "cell_type": "markdown",
   "metadata": {},
   "source": [
    "Visualize `Grocery` as X and `Fresh` as y by `labels` and `labels_DBSCAN` respectively"
   ]
  },
  {
   "cell_type": "code",
   "execution_count": null,
   "metadata": {},
   "outputs": [],
   "source": [
    "# Your code here:\n"
   ]
  },
  {
   "cell_type": "markdown",
   "metadata": {},
   "source": [
    "Visualize `Frozen` as X and `Delicassen` as y by `labels` and `labels_DBSCAN` respectively"
   ]
  },
  {
   "cell_type": "code",
   "execution_count": null,
   "metadata": {},
   "outputs": [],
   "source": [
    "# Your code here:\n"
   ]
  },
  {
   "cell_type": "markdown",
   "metadata": {},
   "source": [
    "Let's use a groupby to see how the mean differs between the groups. Group `customers` by `labels` and `labels_DBSCAN` respectively and compute the means for all columns."
   ]
  },
  {
   "cell_type": "code",
   "execution_count": null,
   "metadata": {},
   "outputs": [],
   "source": [
    "# Your code here:\n"
   ]
  },
  {
   "cell_type": "markdown",
   "metadata": {},
   "source": [
    "Which algorithm appears to perform better?"
   ]
  },
  {
   "cell_type": "markdown",
   "metadata": {},
   "source": [
    "**Your observations here**\n",
    "\n",
    " Me cuesta un poco ver cual de los dos modelos clusteriza mejor a traves de sus medias. Si fuera por los graficos diria que kmeans funciona mejor, aunque si fuera por la diferencia de medias podria ser DBSCAN. Para mi ninguno de los dos esta haciendo buenos clusters. "
   ]
  },
  {
   "cell_type": "markdown",
   "metadata": {},
   "source": [
    "# Bonus Challenge 2 - Changing K-Means Number of Clusters\n",
    "\n",
    "As we mentioned earlier, we don't need to worry about the number of clusters with DBSCAN because it automatically decides that based on the parameters we send to it. But with K-Means, we have to supply the `n_clusters` param (if you don't supply `n_clusters`, the algorithm will use `8` by default). You need to know that the optimal number of clusters differs case by case based on the dataset. K-Means can perform badly if the wrong number of clusters is used.\n",
    "\n",
    "In advanced machine learning, data scientists try different numbers of clusters and evaluate the results with statistical measures (read [here](https://en.wikipedia.org/wiki/Cluster_analysis#External_evaluation)). We are not using statistical measures today but we'll use our eyes instead. In the cells below, experiment with different number of clusters and visualize with scatter plots. What number of clusters seems to work best for K-Means?"
   ]
  },
  {
   "cell_type": "code",
   "execution_count": null,
   "metadata": {},
   "outputs": [],
   "source": [
    "# Your code here"
   ]
  },
  {
   "cell_type": "markdown",
   "metadata": {},
   "source": [
    "**Your comment here**\n",
    "\n",
    "Segun puedo ver, 2 clusters parecen funcionar mejor."
   ]
  },
  {
   "cell_type": "markdown",
   "metadata": {},
   "source": [
    "# Bonus Challenge 3 - Changing DBSCAN `eps` and `min_samples`\n",
    "\n",
    "Experiment changing the `eps` and `min_samples` params for DBSCAN. See how the results differ with scatter plot visualization."
   ]
  },
  {
   "cell_type": "code",
   "execution_count": null,
   "metadata": {},
   "outputs": [],
   "source": [
    "# Your code here"
   ]
  },
  {
   "cell_type": "markdown",
   "metadata": {},
   "source": [
    "**Your comment here**\n",
    "\n",
    "+ \n",
    "+ \n",
    "+ \n"
   ]
  }
 ],
 "metadata": {
  "kernelspec": {
   "display_name": "Python [conda env:.conda-venv10] *",
   "language": "python",
   "name": "conda-env-.conda-venv10-py"
  },
  "language_info": {
   "codemirror_mode": {
    "name": "ipython",
    "version": 3
   },
   "file_extension": ".py",
   "mimetype": "text/x-python",
   "name": "python",
   "nbconvert_exporter": "python",
   "pygments_lexer": "ipython3",
   "version": "3.10.4"
  },
  "toc": {
   "base_numbering": 1,
   "nav_menu": {},
   "number_sections": true,
   "sideBar": true,
   "skip_h1_title": false,
   "title_cell": "Table of Contents",
   "title_sidebar": "Contents",
   "toc_cell": true,
   "toc_position": {},
   "toc_section_display": true,
   "toc_window_display": false
  },
  "varInspector": {
   "cols": {
    "lenName": 16,
    "lenType": 16,
    "lenVar": 40
   },
   "kernels_config": {
    "python": {
     "delete_cmd_postfix": "",
     "delete_cmd_prefix": "del ",
     "library": "var_list.py",
     "varRefreshCmd": "print(var_dic_list())"
    },
    "r": {
     "delete_cmd_postfix": ") ",
     "delete_cmd_prefix": "rm(",
     "library": "var_list.r",
     "varRefreshCmd": "cat(var_dic_list()) "
    }
   },
   "types_to_exclude": [
    "module",
    "function",
    "builtin_function_or_method",
    "instance",
    "_Feature"
   ],
   "window_display": false
  }
 },
 "nbformat": 4,
 "nbformat_minor": 2
}
