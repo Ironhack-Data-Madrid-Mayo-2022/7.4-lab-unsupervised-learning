{
 "cells": [
  {
   "cell_type": "markdown",
   "metadata": {
    "toc": true
   },
   "source": [
    "<h1>Table of Contents<span class=\"tocSkip\"></span></h1>\n",
    "<div class=\"toc\"><ul class=\"toc-item\"><li><span><a href=\"#Before-your-start:\" data-toc-modified-id=\"Before-your-start:-1\"><span class=\"toc-item-num\">1&nbsp;&nbsp;</span>Before your start:</a></span></li><li><span><a href=\"#Challenge-1---Import-and-Describe-the-Dataset\" data-toc-modified-id=\"Challenge-1---Import-and-Describe-the-Dataset-2\"><span class=\"toc-item-num\">2&nbsp;&nbsp;</span>Challenge 1 - Import and Describe the Dataset</a></span><ul class=\"toc-item\"><li><ul class=\"toc-item\"><li><ul class=\"toc-item\"><li><span><a href=\"#Explore-the-dataset-with-mathematical-and-visualization-techniques.-What-do-you-find?\" data-toc-modified-id=\"Explore-the-dataset-with-mathematical-and-visualization-techniques.-What-do-you-find?-2.0.0.1\"><span class=\"toc-item-num\">2.0.0.1&nbsp;&nbsp;</span>Explore the dataset with mathematical and visualization techniques. What do you find?</a></span></li></ul></li></ul></li></ul></li><li><span><a href=\"#Challenge-2---Data-Cleaning-and-Transformation\" data-toc-modified-id=\"Challenge-2---Data-Cleaning-and-Transformation-3\"><span class=\"toc-item-num\">3&nbsp;&nbsp;</span>Challenge 2 - Data Cleaning and Transformation</a></span></li><li><span><a href=\"#Challenge-3---Data-Preprocessing\" data-toc-modified-id=\"Challenge-3---Data-Preprocessing-4\"><span class=\"toc-item-num\">4&nbsp;&nbsp;</span>Challenge 3 - Data Preprocessing</a></span><ul class=\"toc-item\"><li><ul class=\"toc-item\"><li><ul class=\"toc-item\"><li><span><a href=\"#We-will-use-the-StandardScaler-from-sklearn.preprocessing-and-scale-our-data.-Read-more-about-StandardScaler-here.\" data-toc-modified-id=\"We-will-use-the-StandardScaler-from-sklearn.preprocessing-and-scale-our-data.-Read-more-about-StandardScaler-here.-4.0.0.1\"><span class=\"toc-item-num\">4.0.0.1&nbsp;&nbsp;</span>We will use the <code>StandardScaler</code> from <code>sklearn.preprocessing</code> and scale our data. Read more about <code>StandardScaler</code> <a href=\"https://scikit-learn.org/stable/modules/generated/sklearn.preprocessing.StandardScaler.html#sklearn.preprocessing.StandardScaler\" target=\"_blank\">here</a>.</a></span></li></ul></li></ul></li></ul></li><li><span><a href=\"#Challenge-4---Data-Clustering-with-K-Means\" data-toc-modified-id=\"Challenge-4---Data-Clustering-with-K-Means-5\"><span class=\"toc-item-num\">5&nbsp;&nbsp;</span>Challenge 4 - Data Clustering with K-Means</a></span></li><li><span><a href=\"#Challenge-5---Data-Clustering-with-DBSCAN\" data-toc-modified-id=\"Challenge-5---Data-Clustering-with-DBSCAN-6\"><span class=\"toc-item-num\">6&nbsp;&nbsp;</span>Challenge 5 - Data Clustering with DBSCAN</a></span></li><li><span><a href=\"#Challenge-6---Compare-K-Means-with-DBSCAN\" data-toc-modified-id=\"Challenge-6---Compare-K-Means-with-DBSCAN-7\"><span class=\"toc-item-num\">7&nbsp;&nbsp;</span>Challenge 6 - Compare K-Means with DBSCAN</a></span></li><li><span><a href=\"#Bonus-Challenge-2---Changing-K-Means-Number-of-Clusters\" data-toc-modified-id=\"Bonus-Challenge-2---Changing-K-Means-Number-of-Clusters-8\"><span class=\"toc-item-num\">8&nbsp;&nbsp;</span>Bonus Challenge 2 - Changing K-Means Number of Clusters</a></span></li><li><span><a href=\"#Bonus-Challenge-3---Changing-DBSCAN-eps-and-min_samples\" data-toc-modified-id=\"Bonus-Challenge-3---Changing-DBSCAN-eps-and-min_samples-9\"><span class=\"toc-item-num\">9&nbsp;&nbsp;</span>Bonus Challenge 3 - Changing DBSCAN <code>eps</code> and <code>min_samples</code></a></span></li></ul></div>"
   ]
  },
  {
   "cell_type": "markdown",
   "metadata": {},
   "source": [
    "# Before your start:\n",
    "- Read the README.md file\n",
    "- Comment as much as you can and use the resources in the README.md file\n",
    "- Happy learning!"
   ]
  },
  {
   "cell_type": "code",
   "execution_count": 1,
   "metadata": {},
   "outputs": [],
   "source": [
    "# Import your libraries:\n",
    "\n",
    "%matplotlib inline\n",
    "\n",
    "import matplotlib.pyplot as plt\n",
    "import numpy as np\n",
    "import pandas as pd\n",
    "import seaborn as sns\n",
    "import warnings                                              \n",
    "from sklearn.exceptions import DataConversionWarning          \n",
    "warnings.filterwarnings(action='ignore', category=DataConversionWarning)"
   ]
  },
  {
   "cell_type": "markdown",
   "metadata": {},
   "source": [
    "# Challenge 1 - Import and Describe the Dataset\n",
    "\n",
    "In this lab, we will use a dataset containing information about customer preferences. We will look at how much each customer spends in a year on each subcategory in the grocery store and try to find similarities using clustering.\n",
    "\n",
    "The origin of the dataset is [here](https://archive.ics.uci.edu/ml/datasets/wholesale+customers)."
   ]
  },
  {
   "cell_type": "code",
   "execution_count": 2,
   "metadata": {},
   "outputs": [
    {
     "data": {
      "text/html": [
       "<div>\n",
       "<style scoped>\n",
       "    .dataframe tbody tr th:only-of-type {\n",
       "        vertical-align: middle;\n",
       "    }\n",
       "\n",
       "    .dataframe tbody tr th {\n",
       "        vertical-align: top;\n",
       "    }\n",
       "\n",
       "    .dataframe thead th {\n",
       "        text-align: right;\n",
       "    }\n",
       "</style>\n",
       "<table border=\"1\" class=\"dataframe\">\n",
       "  <thead>\n",
       "    <tr style=\"text-align: right;\">\n",
       "      <th></th>\n",
       "      <th>Channel</th>\n",
       "      <th>Region</th>\n",
       "      <th>Fresh</th>\n",
       "      <th>Milk</th>\n",
       "      <th>Grocery</th>\n",
       "      <th>Frozen</th>\n",
       "      <th>Detergents_Paper</th>\n",
       "      <th>Delicassen</th>\n",
       "    </tr>\n",
       "  </thead>\n",
       "  <tbody>\n",
       "    <tr>\n",
       "      <th>0</th>\n",
       "      <td>2</td>\n",
       "      <td>3</td>\n",
       "      <td>12669</td>\n",
       "      <td>9656</td>\n",
       "      <td>7561</td>\n",
       "      <td>214</td>\n",
       "      <td>2674</td>\n",
       "      <td>1338</td>\n",
       "    </tr>\n",
       "    <tr>\n",
       "      <th>1</th>\n",
       "      <td>2</td>\n",
       "      <td>3</td>\n",
       "      <td>7057</td>\n",
       "      <td>9810</td>\n",
       "      <td>9568</td>\n",
       "      <td>1762</td>\n",
       "      <td>3293</td>\n",
       "      <td>1776</td>\n",
       "    </tr>\n",
       "    <tr>\n",
       "      <th>2</th>\n",
       "      <td>2</td>\n",
       "      <td>3</td>\n",
       "      <td>6353</td>\n",
       "      <td>8808</td>\n",
       "      <td>7684</td>\n",
       "      <td>2405</td>\n",
       "      <td>3516</td>\n",
       "      <td>7844</td>\n",
       "    </tr>\n",
       "    <tr>\n",
       "      <th>3</th>\n",
       "      <td>1</td>\n",
       "      <td>3</td>\n",
       "      <td>13265</td>\n",
       "      <td>1196</td>\n",
       "      <td>4221</td>\n",
       "      <td>6404</td>\n",
       "      <td>507</td>\n",
       "      <td>1788</td>\n",
       "    </tr>\n",
       "    <tr>\n",
       "      <th>4</th>\n",
       "      <td>2</td>\n",
       "      <td>3</td>\n",
       "      <td>22615</td>\n",
       "      <td>5410</td>\n",
       "      <td>7198</td>\n",
       "      <td>3915</td>\n",
       "      <td>1777</td>\n",
       "      <td>5185</td>\n",
       "    </tr>\n",
       "  </tbody>\n",
       "</table>\n",
       "</div>"
      ],
      "text/plain": [
       "   Channel  Region  Fresh  Milk  Grocery  Frozen  Detergents_Paper  Delicassen\n",
       "0        2       3  12669  9656     7561     214              2674        1338\n",
       "1        2       3   7057  9810     9568    1762              3293        1776\n",
       "2        2       3   6353  8808     7684    2405              3516        7844\n",
       "3        1       3  13265  1196     4221    6404               507        1788\n",
       "4        2       3  22615  5410     7198    3915              1777        5185"
      ]
     },
     "execution_count": 2,
     "metadata": {},
     "output_type": "execute_result"
    }
   ],
   "source": [
    "# loading the data:\n",
    "customers = pd.read_csv('../data/Wholesale customers data.csv')\n",
    "customers.head()"
   ]
  },
  {
   "cell_type": "markdown",
   "metadata": {},
   "source": [
    "#### Explore the dataset with mathematical and visualization techniques. What do you find?\n",
    "\n",
    "Checklist:\n",
    "\n",
    "* What does each column mean?\n",
    "* Any categorical data to convert?\n",
    "* Any missing data to remove?\n",
    "* Column collinearity - any high correlations?\n",
    "* Descriptive statistics - any outliers to remove?\n",
    "* Column-wise data distribution - is the distribution skewed?\n",
    "* Etc.\n",
    "\n",
    "Additional info: Over a century ago, an Italian economist named Vilfredo Pareto discovered that roughly 20% of the customers account for 80% of the typical retail sales. This is called the [Pareto principle](https://en.wikipedia.org/wiki/Pareto_principle). Check if this dataset displays this characteristic."
   ]
  },
  {
   "cell_type": "code",
   "execution_count": 3,
   "metadata": {},
   "outputs": [
    {
     "name": "stdout",
     "output_type": "stream",
     "text": [
      "<class 'pandas.core.frame.DataFrame'>\n",
      "RangeIndex: 440 entries, 0 to 439\n",
      "Data columns (total 8 columns):\n",
      " #   Column            Non-Null Count  Dtype\n",
      "---  ------            --------------  -----\n",
      " 0   Channel           440 non-null    int64\n",
      " 1   Region            440 non-null    int64\n",
      " 2   Fresh             440 non-null    int64\n",
      " 3   Milk              440 non-null    int64\n",
      " 4   Grocery           440 non-null    int64\n",
      " 5   Frozen            440 non-null    int64\n",
      " 6   Detergents_Paper  440 non-null    int64\n",
      " 7   Delicassen        440 non-null    int64\n",
      "dtypes: int64(8)\n",
      "memory usage: 27.6 KB\n"
     ]
    }
   ],
   "source": [
    "customers.info()"
   ]
  },
  {
   "cell_type": "code",
   "execution_count": 4,
   "metadata": {},
   "outputs": [
    {
     "data": {
      "text/plain": [
       "Index(['Channel', 'Region', 'Fresh', 'Milk', 'Grocery', 'Frozen',\n",
       "       'Detergents_Paper', 'Delicassen'],\n",
       "      dtype='object')"
      ]
     },
     "execution_count": 4,
     "metadata": {},
     "output_type": "execute_result"
    }
   ],
   "source": [
    "# Your code here:\n",
    "customers.columns   # se observan las columnas"
   ]
  },
  {
   "cell_type": "code",
   "execution_count": 5,
   "metadata": {},
   "outputs": [
    {
     "name": "stdout",
     "output_type": "stream",
     "text": [
      "[2 1]\n",
      "[3 1 2]\n",
      "[ 12669   7057   6353  13265  22615   9413  12126   7579   5963   6006\n",
      "   3366  13146  31714  21217  24653  10253   1020   5876  18601   7780\n",
      "  17546   5567  31276  26373  22647  16165   9898  14276   4113  43088\n",
      "  18815   2612  21632  29729   1502    688  29955  15168   4591  56159\n",
      "  24025  19176  10850    630   9670   5181   3103  44466  11519   4967\n",
      "   6269   3347  40721    491  27329   5264   4098   5417  13779   6137\n",
      "   8590  35942   7823   9396   4760     85      9  19913   2446   8352\n",
      "  16705  18291   4420  19899   8190  20398    717  12205  10766   1640\n",
      "   7005    219  10362  20874  11867  16117  22925  43265   7864  24904\n",
      "  11405  12754   9198  11314   5626      3     23    403    503   9658\n",
      "  11594   1420   2932  56082  14100  15587   1454   8797   1531   1406\n",
      "  11818  12579  19046  14438  18044  11134  11173   6990  20049   8258\n",
      "  17160   4020  12212  11170  36050  76237  19219  21465    140  42312\n",
      "   7149   2101  14903   9434   7388   6300   4625   3087  13537   5387\n",
      "  17623  30379  37036  10405  18827  22039   7769   9203   5924  31812\n",
      "  16225   1289  18840   3463    622   1989   3830  17773   2861    355\n",
      "   1725  12434  15177   5531   5224  15615   4822   2926   5809   5414\n",
      "    260    200    955    514    286   2343  45640  12759  11002   3157\n",
      "  12356 112151    694  36847    327   8170   3009   2438   8040    834\n",
      "  16936  13624   5509    180   7107  17023  30624   2427  11686   3067\n",
      "   4484  25203    583   1956   1107   6373   2541   1537   5550  18567\n",
      "  12119   7291   3317   2362   2806   2532     18   4155  14755   5396\n",
      "   5041   2790   7274  12680  20782   4042   1869   8656  11072   2344\n",
      "  25962    964  15603   1838   8635  18692   7363  47493  22096  24929\n",
      "  18226  11210   6202   3062   8885  13569  15671   3191   6134   6623\n",
      "  29526  10379  31614  11092   8475  56083  53205   9193   7858  23257\n",
      "   2153   1073   5909    572  20893  11908  15218   4720   2083  36817\n",
      "    894    680  27901   9061  11693  17360  12238  49063  25767  68951\n",
      "  40254  15354  16260  42786   2708   6022   2838   3996  21273   7588\n",
      "  19087   8090   6758    444  16448   5283   2886   2599    161    243\n",
      "   6468  17327   6987    918   7034  29635   2137   9784  10617   1479\n",
      "   7127   1182  11800   9759   1774   9155  15881  13360  25977  32717\n",
      "   4414    542  16933   5113   9790  11223  22321   8565  16823  27082\n",
      "  13970   9351   2617    381   2320    255   1689   3043   1198   2771\n",
      "  27380   3428   5981   3521   1210    608    117  14039    190  22686\n",
      "     37    759    796  19746   4734   2121   4627   2615   4692   9561\n",
      "   3477  22335   6211  39679  20105   3884  15076   6338   5841   3136\n",
      "  38793   3225   4048  28257  17770  34454   1821  10683  11635   1206\n",
      "  20918   9785   9385   3352   2647    518  23632  12377   9602   4515\n",
      "  11535  11442   9612   4446  27167  26539  25606  18073   6884  25066\n",
      "   7362   8257   8708   6633   2126     97   4983   5969   7842   4389\n",
      "   5065    660   8861   4456  17063  26400  17565  16980  11243  13134\n",
      "  31012   3047   8607   3097   8533  21117   1982  16731  29703  39228\n",
      "  14531  10290   2787]\n",
      "[ 9656  9810  8808  1196  5410  8259  3199  4956  3648 11093  5403  1124\n",
      " 12319  6208  9465  1114  8816  6157  6327  2495  4519   871  1917 36423\n",
      "  9776  4230   961   803 20484  2100  3610  4339  1318  4786  1979  5491\n",
      "  4362 10556 15729   555  4332  3065  7555 11095  7027 22044 14069 54259\n",
      "  6152 21412  1095  4051  3916 10473  1449  3683 29892  9933  1970  5360\n",
      "  3045 38369  6245 11601  1227 20959  1534  6759  7260  2820  2037  1266\n",
      "  5139  5332  6343  1137  3587 12697  1175  3259   829  9540  9232  1563\n",
      "  3327 46197 73498  5025   542  3836   596  2762 27472  3090 12220  2920\n",
      "  2616   254   112  2182  7779 10810  6459  3504  2132  1014  6337 10646\n",
      "  8397 16729  1648 11114  2770  2295  1080   793  2521  3880  1891  2344\n",
      "  1200  3234   201 10769  1642  3473  1840  7243  8847   926  2428   589\n",
      "  2032  1042  1882  1289  8579  8080  4257  4979  4280 13252  7152  1596\n",
      "  3677  8384  1936  3373   584  1433  1825  3328  1371  9250    55 10690\n",
      "  5291  1366  6570  7704  3651   540  2024 15726  7603 12653  6721  3195\n",
      "   735   717  8675 25862  5479  7677  1208  7845  6958  7330  7075  4888\n",
      "  6036 29627  8533 43950   918  6448   521  8002  7639 11577  6250   295\n",
      "  1461  3485  1012  7209  7097  2154  2280 13240 14399 11487   685   891\n",
      " 11711   780  4737  3748 12729  1895 28326  6602  6551 10765 16599  1475\n",
      "  7504   367   899  7503  1115  2527   659  3243  5921  2204   577  2746\n",
      "  5989 10678  1780  4984  2703  6380   820  3838   475  2567  3575  1801\n",
      "  3576  7775  6154   346  5279  3795  1993 23133  1860  7961 17972   489\n",
      "  5008  1931  4563  4959  4885  1110  1372  9679 23527  9763  1222  8053\n",
      "   258  1032  5007  8323  1703  1610  3749  2317  6200  2884  7108  3965\n",
      "  3613  4411   640  2247  2102   594   286  2160  3354  3086 11103  2013\n",
      "  1897  1304  4560   879  6243 13316  5302  3688  7460 12939 12867  2374\n",
      "  1020 20655  1492  2335  3737   925  1795 14982  1375  3088  2713 25071\n",
      "  3696   713   944 16784  2209  1486  1786 14881  3216  4980   928  6817\n",
      "  1511  1347   333  1188  4025  5763  5758  6964  1172  2602  6939  7184\n",
      "  2380 14641  1099 10044  1106  6264  7393   727   134  1275 18664  5878\n",
      "  2872   607  1601   997   873  6128  2217   894   337  3944  1887  3801\n",
      "  6257  2256  1450  8630  3154  3294  5164  4591  7435  1364 21858   922\n",
      "  3620  1916   848  1530  1181  2761  4180  6730   865  1316 11991  1666\n",
      "   906  2801  4753 11006  4613  1046  5010 12844  3634  2096  3289  3605\n",
      "  4859  1990  6046 10940  5499  8494  3783  5266  4847  1377  3686  2408\n",
      "  9347 16687  5970  1750  5506  1162  3218  3922 12051  1431 15488  1981\n",
      "  1698]\n",
      "[ 7561  9568  7684  4221  7198  5126  6975  9426  6192 18881 12974  4523\n",
      " 11757 14982 12091  3821 12121  2933 10099  9464  4602  2010  4469 22019\n",
      " 13792  7595  2861  3045 25957  2609 11107  3133  2886  7326  2262 11091\n",
      "  5428 12477 16709   902  4757  5956 14961 23998 10471 21531 21955 55571\n",
      " 10868 28921  1980  6996  5876 11532  1947  5005 26866 10487  1648  8040\n",
      "  7854 59598  6544 15775  3250 45828  7417 13462  3993  1293  3202 21042\n",
      "  2661  8713  9794     3  6532 28540  2067  3655  3009 14403 11009  1783\n",
      "  4814 92780 32114  8117  4042  5330  1638  2530 32034  2062 11323  6252\n",
      "  8118   610   778  1909 12144 16267  7677  8906  3445  3970 10704 14886\n",
      "  6981 28986  1694 17569  2469  1733  2000  2988  3355  5380  2362  2147\n",
      "  3412  1498   245  8814  2961  7102  1658 10685  3823  1510   699   314\n",
      "  2479  1235  2174  2591  7030  8282  5034  3343  7305  5189  8253  1096\n",
      "  1988 34792  2177  2707   542  1651  1765  2022  3135  2368   137 19460\n",
      " 14855  2474  9618 14682 12822   283  3810 26870  8584 19858  9170  3268\n",
      "   803  2155 13430 19816  6536 19805  5241 11874  4533  4945  2500  8887\n",
      " 18148 10518 20170  4710  1139   854  9819 11687 11522  1981  1381  2251\n",
      " 20292  2974  5230  4897 10391  6824  2112 23127 24708  9490  2216  5226\n",
      " 23596   950  6089  5838 16767  1393 39694  6861 11364 15538 36486  2046\n",
      " 15205  1390  1382 10646  2856  5265  1499  4157  9212  1563   572  2501\n",
      "  5615  3828  3838  3316  3833  2824  3047   593   585  3779  7041  2475\n",
      "  2914  5119 10817 13916  1777   489  2406  2070  1799 33586  4740 16966\n",
      "  4748  1495  5249  1883  2124  7336  2157  1094  1677  6684 15445 13699\n",
      " 22182  2576 19847  1138   975  6869  1493  1841   223  6964   683  2543\n",
      "  9694  2431  6235  4252  2013 12609  3600  1242  2828  1296   471  2642\n",
      "  3261  4329 12469  6550  5234  3643  6986  9965  2060  6360 20399  9785\n",
      " 13829 24773  8852 21570  2842  3007 13567  2405  8280 19172  7647 11924\n",
      "  2201  6114  3558 17645  2280  5167  3315 11593  2464 13626  1431  1664\n",
      "  3389  4583  5109 26839  1447 67298  2743 10790  1330  2611  7021  5332\n",
      "  9670 11238  5923 26316  1763  8335 15541 12311  2028 20521  1997 22294\n",
      "  1533 21203  2548  2012   218 22272  1660  2109  2006   864  2453  4438\n",
      "  1524  8025   534  4955  1939  1641  7398  1668  1162 13586  2648  1902\n",
      "  2146  1617  8469  3450 15400  1614  2857  1573  1172  1422  1328  2313\n",
      "  3842  3204  1263  9345  1428   582   935  1238  2128  5091  4604  3444\n",
      "  1167  5026 18683  6407  6100  4563  3281 12400  6633  3417  8552 10908\n",
      " 11055 18622  2223 13227  9053  4172  4657 12232  2593 14316  5429  4910\n",
      "  3580 16483  5160  4754  7994 16027   764 30243  2232  2510]\n",
      "[  214  1762  2405  6404  3915   666   480  1669   425  1159  4400  1420\n",
      "   287  3095   294   397   134   839  2205   669  1066  3383  9408  5154\n",
      "  2915   201  3151   485  1158  1200  1148  2088   266  6130   833  1729\n",
      "  1920    33 10002  9510  2033   188   787   541  1740  1668  7782   584\n",
      "  1798  3860   239   532   744  2436  1057  2616    38   596   129    96\n",
      "  3254  4154  2896  3724    36   175  1256  5870   779 10643  5373  8872\n",
      "  8132  1285  4407  7530   869  2096   868   430   283   737  2320  1178\n",
      "  1026   987  6312  9735  3443  3347  8693  3232 35009   206   440   145\n",
      "   774   895  5639  3252  1593  2561 18028  1336   910   133  2471   247\n",
      "   673  2276   805  8853  3220  2555  2715  1517  1647  5343  3896  2417\n",
      "  2395  1991  2194  4787 16538  8195   880   142  1718  6316   346   576\n",
      "   436   720  1170  4575   661   155   825  2279   321  2995  8425   118\n",
      "    42   926  1286  4052   800   853   531  3001    75   233   317  3378\n",
      "   930   398   824  1092  2665  2367  2540  4425   993   405  1393  2399\n",
      "  1116   651   333   937  2515    52  7368  1752  1152  4477   402 16745\n",
      "   443 36534    74  2181  3470  6269  2758   275  7332   890   547   959\n",
      "   806  7888 18711  1127  3527   520  3941  3549  5065   469  1383   955\n",
      "   878  2946  1859   864  1801  4736  1291  1329   913  1374   179  2532\n",
      "  2306  1765    91  7496  5612   784   660  1759  2286   950  6845  8321\n",
      "  1439   638  4260  1218  2312  4634  1112  5243 11422  2216  3752   561\n",
      "  1183   230  1777  2077   559  6340  1730  6746  7683   432  4686  3242\n",
      "   453  5004  6422  3012   327  6818   982  4324    61 10155  2221  3975\n",
      "  1069  2516  5500  1120   529  4802   862  4479 16919  5845  1293   977\n",
      "  1093  5970 10303  8692  1042  1619  8366   848  1388   502  2507  3838\n",
      "   902   909   417  3045  1455   934   264  1809   364   492   617   799\n",
      "  1840  1149   416  1465 12569  3046  1274  4447  1483   662  2679   978\n",
      "  2121  1128   514  2714  3703   915  2369 60869  3498   414  7849  5127\n",
      "  3570  1234  2208   131 11559  1365   650  8170 15601  9584   388   767\n",
      "   349  1456  2234  2693  2809  1341  2005  1796  1741   830   228  6386\n",
      "   245  3157   137  6114   340  2601  1206   560   191  1103  1173  1457\n",
      "  2046  1089  1364  8164   876  1504  1492   597  5641  1034   282   130\n",
      "  3881  9927  4006  3635  2583  1945  1960  1677  3019  5502   907   659\n",
      "  8620  1398  2921  2644  6838  5390  1601  3576 13223   220   127  2069\n",
      "  9806  2854  1646  2349  1389  1535    98 17866  5679  1691   633    25\n",
      "  1031  1059   874 15348  3141 15082  2198    47   575 13486   269  1541\n",
      "   688 13135  4510   437  1038    65]\n",
      "[ 2674  3293  3516   507  1777  1795  3140  3321  1716  7425  5977   549\n",
      "  3881  6707  5058   964  4508   370  2767  2518  2259   375  2381  4337\n",
      "  4482  4003   242   100  8604  1107  2134   820   918   361   483  4239\n",
      "   862  6506  6956   212  1145  2575  6899  9529  4618  7353  6792 24171\n",
      "  5121 13583   609  1538  2587  5611   204  2024 17740  7572   227  3084\n",
      "  4095 26701  4074  7677  1247 24231  3468  5141   788   656   116  4173\n",
      "  1321   764  1901     3   529 12034   301  1202   610  7818  3537   550\n",
      "  3837 40827 20070  1579   165   454    69   627 18906    71  5038   223\n",
      "  3874    54    56   215  8035  6766  4573  1480  1491   139  6830  8969\n",
      "  2505   836   169  6457   585   118   276   310   319   411   266   174\n",
      "   264    25  1976   500   778   349  2386  1062   410   395    70   955\n",
      "   256    47   199  2447   721   249   637   960    51    20   399   516\n",
      " 12591    73  1082   283   113   170   255   352   302     7 11577  6694\n",
      "   811  4004  8077  4424   232 13726  3674  7108  4973  1680    79  7015\n",
      "  8773  2840  9836   153  4196  1532   120   273  1382  4948  6907   239\n",
      "   334    58   949  3459  6839  4027    43   187  5618   355   330   763\n",
      "  4314   592   402  9959 14235   284   954     5  9265   288  5316  3381\n",
      " 12420   244 19410   240  3961  5957  5828 13308   130  4797    86  4167\n",
      "   761  2568   263  4762   694  1566   409   325  1216   415    28    72\n",
      "   828   343   412   586  1682  3143  8933   430    44   562   234 18594\n",
      "   205   363  1547   111   392  3593   730   967   780    49   429  2894\n",
      "  5980   830  4882   737  6374   333   197   147    93   210   759    96\n",
      "   603   621   274  3620   167  2328  1041   314   751   436  1226   386\n",
      "   445    32   965   825  5952  2208   710  3712  4538   290  2662  8752\n",
      "  6236 10069 11783  3909  7558   351   257  6846   299   371 17120   183\n",
      "   857  3891    83   821   706 12408   275   228  1470  1679   140  1272\n",
      "   387    88   492   182  9606   178 38102   332  4111   146   442    15\n",
      "   573  7271  5162  4595 15469   217  3843  6600  4621  1184 12218   173\n",
      " 12638    90  8682  1333   184     9  6747   536   468   159   179  1335\n",
      "   514  4515   222   252   101    41   523   716   397  1916   311   476\n",
      "  4666    68   813   600   246  1711   282   192   353   231   200    95\n",
      "   122   385   149   841  3378    64    74   469    92    10   632   914\n",
      "   593  1092  7883  2730  2123  1860   235  2970   912  1135  3540  6728\n",
      "  3485  6740  1580  6818  3415   948  1803  3213   108  5079   439   850\n",
      "    84   241  1377  1328   356  2371 14841   168   477]\n",
      "[ 1338  1776  7844  1788  5185  1451   545  2566   750  2098  1744   497\n",
      "  2931   602  2168   412  1080  4478  3181   501  2124   569  4334 16523\n",
      "  5778    57   833   518  5206   823  2963   985   405  1083   395   436\n",
      "  4626   714   433  2916  5864  2802    46    72    65  4985  1452  6465\n",
      "  1476  1163  2162   301  1278   224  1333  1130  1340  1282  1603   225\n",
      "  2017   964  1295  1145  1423    27   834  3095   144  1365 14472   181\n",
      "   648  1780   975   894  1009   167  1653   529   156  2342   772   120\n",
      "  2944   903 14351  3178   360  1117  5130  2698   244   709   217    63\n",
      "   132   323  3029  1838  1386  2498   548  1378  1831  1438  1236     3\n",
      "  1647  1519  2708  1561  1266   610   222  1160   933   635  1136   255\n",
      "   860   143  1621   918   483  2749  1819   911   310   328   396   537\n",
      "   326  1542    36  3271   929  2616  1450   318   201  4430   520   526\n",
      "   434  1440  1067  1774   184  1627     8  2153  3182   418  1682   303\n",
      "  2157  2233   446   238  2379  3637   693   429  6250   707   716  1442\n",
      "  1697   230  2631  2165  2794  8550 47943    11   247   727   404  1856\n",
      "    64    84   409   666  1142  1755  2876  1468   697   347   731  1681\n",
      "  6854    18  1328   710   285   806   797  2100  2870  1775  1215   791\n",
      "  2388   674  1158  6372   130   749   239   375  1360   659   786  1553\n",
      "   689   203   980  2137   490     7  2563   295   216  2253  2564  1047\n",
      "   578  2398  1970  2784   572   291  5121  1693  1391  3265   615   373\n",
      "   987  3321   818   287   655   411  1265  3636  3628   698   204    56\n",
      "  1550  1040  1824  1153   379  2503   139  1409  1721  1104  2079  1404\n",
      "  1384  2406   128  1027   258    22  1522   686  1060   741  1854   254\n",
      "   898   531  1037   259  2005   172   555    59  2410   211  1543   925\n",
      "   656   117   142   297  1233  3508  1059  1637    51  1625  1113   229\n",
      "   573  1092  5609   522  1534   739  1043  1102  2602  3486  2139   778\n",
      "   868   550  1942  1371  2158    37  1115  1022   665   445   995  3137\n",
      "   195  1111  2341   127   110  4100   776   503   712   314   468  3105\n",
      "   447   342   558   296  2235   790  4829  3113    70  1426  1242  1114\n",
      "   179   270   532  2893   361  5120  1068   967   961   406   684  1000\n",
      "  1827   654   819   452   290  2213   743  1014  1902   340   288   715\n",
      "   378   960   553   344  5137  1892  4365    62  2435  1874   993  1063\n",
      "  1521  1393  1784  1218   668   249  1886  1894   317  2501  2080  1498\n",
      "  1449   838  2204  2346  1867  2125    52]\n"
     ]
    }
   ],
   "source": [
    "def unique_values():\n",
    "    for e in customers.columns:\n",
    "        print(customers[e].unique()) \n",
    "unique_values()"
   ]
  },
  {
   "cell_type": "code",
   "execution_count": 6,
   "metadata": {},
   "outputs": [
    {
     "data": {
      "text/html": [
       "<div>\n",
       "<style scoped>\n",
       "    .dataframe tbody tr th:only-of-type {\n",
       "        vertical-align: middle;\n",
       "    }\n",
       "\n",
       "    .dataframe tbody tr th {\n",
       "        vertical-align: top;\n",
       "    }\n",
       "\n",
       "    .dataframe thead th {\n",
       "        text-align: right;\n",
       "    }\n",
       "</style>\n",
       "<table border=\"1\" class=\"dataframe\">\n",
       "  <thead>\n",
       "    <tr style=\"text-align: right;\">\n",
       "      <th></th>\n",
       "      <th>Channel</th>\n",
       "      <th>Region</th>\n",
       "      <th>Fresh</th>\n",
       "      <th>Milk</th>\n",
       "      <th>Grocery</th>\n",
       "      <th>Frozen</th>\n",
       "      <th>Detergents_Paper</th>\n",
       "      <th>Delicassen</th>\n",
       "    </tr>\n",
       "  </thead>\n",
       "  <tbody>\n",
       "    <tr>\n",
       "      <th>Channel</th>\n",
       "      <td>1.000000</td>\n",
       "      <td>0.062028</td>\n",
       "      <td>-0.169172</td>\n",
       "      <td>0.460720</td>\n",
       "      <td>0.608792</td>\n",
       "      <td>-0.202046</td>\n",
       "      <td>0.636026</td>\n",
       "      <td>0.056011</td>\n",
       "    </tr>\n",
       "    <tr>\n",
       "      <th>Region</th>\n",
       "      <td>0.062028</td>\n",
       "      <td>1.000000</td>\n",
       "      <td>0.055287</td>\n",
       "      <td>0.032288</td>\n",
       "      <td>0.007696</td>\n",
       "      <td>-0.021044</td>\n",
       "      <td>-0.001483</td>\n",
       "      <td>0.045212</td>\n",
       "    </tr>\n",
       "    <tr>\n",
       "      <th>Fresh</th>\n",
       "      <td>-0.169172</td>\n",
       "      <td>0.055287</td>\n",
       "      <td>1.000000</td>\n",
       "      <td>0.100510</td>\n",
       "      <td>-0.011854</td>\n",
       "      <td>0.345881</td>\n",
       "      <td>-0.101953</td>\n",
       "      <td>0.244690</td>\n",
       "    </tr>\n",
       "    <tr>\n",
       "      <th>Milk</th>\n",
       "      <td>0.460720</td>\n",
       "      <td>0.032288</td>\n",
       "      <td>0.100510</td>\n",
       "      <td>1.000000</td>\n",
       "      <td>0.728335</td>\n",
       "      <td>0.123994</td>\n",
       "      <td>0.661816</td>\n",
       "      <td>0.406368</td>\n",
       "    </tr>\n",
       "    <tr>\n",
       "      <th>Grocery</th>\n",
       "      <td>0.608792</td>\n",
       "      <td>0.007696</td>\n",
       "      <td>-0.011854</td>\n",
       "      <td>0.728335</td>\n",
       "      <td>1.000000</td>\n",
       "      <td>-0.040193</td>\n",
       "      <td>0.924641</td>\n",
       "      <td>0.205497</td>\n",
       "    </tr>\n",
       "    <tr>\n",
       "      <th>Frozen</th>\n",
       "      <td>-0.202046</td>\n",
       "      <td>-0.021044</td>\n",
       "      <td>0.345881</td>\n",
       "      <td>0.123994</td>\n",
       "      <td>-0.040193</td>\n",
       "      <td>1.000000</td>\n",
       "      <td>-0.131525</td>\n",
       "      <td>0.390947</td>\n",
       "    </tr>\n",
       "    <tr>\n",
       "      <th>Detergents_Paper</th>\n",
       "      <td>0.636026</td>\n",
       "      <td>-0.001483</td>\n",
       "      <td>-0.101953</td>\n",
       "      <td>0.661816</td>\n",
       "      <td>0.924641</td>\n",
       "      <td>-0.131525</td>\n",
       "      <td>1.000000</td>\n",
       "      <td>0.069291</td>\n",
       "    </tr>\n",
       "    <tr>\n",
       "      <th>Delicassen</th>\n",
       "      <td>0.056011</td>\n",
       "      <td>0.045212</td>\n",
       "      <td>0.244690</td>\n",
       "      <td>0.406368</td>\n",
       "      <td>0.205497</td>\n",
       "      <td>0.390947</td>\n",
       "      <td>0.069291</td>\n",
       "      <td>1.000000</td>\n",
       "    </tr>\n",
       "  </tbody>\n",
       "</table>\n",
       "</div>"
      ],
      "text/plain": [
       "                   Channel    Region     Fresh      Milk   Grocery    Frozen  \\\n",
       "Channel           1.000000  0.062028 -0.169172  0.460720  0.608792 -0.202046   \n",
       "Region            0.062028  1.000000  0.055287  0.032288  0.007696 -0.021044   \n",
       "Fresh            -0.169172  0.055287  1.000000  0.100510 -0.011854  0.345881   \n",
       "Milk              0.460720  0.032288  0.100510  1.000000  0.728335  0.123994   \n",
       "Grocery           0.608792  0.007696 -0.011854  0.728335  1.000000 -0.040193   \n",
       "Frozen           -0.202046 -0.021044  0.345881  0.123994 -0.040193  1.000000   \n",
       "Detergents_Paper  0.636026 -0.001483 -0.101953  0.661816  0.924641 -0.131525   \n",
       "Delicassen        0.056011  0.045212  0.244690  0.406368  0.205497  0.390947   \n",
       "\n",
       "                  Detergents_Paper  Delicassen  \n",
       "Channel                   0.636026    0.056011  \n",
       "Region                   -0.001483    0.045212  \n",
       "Fresh                    -0.101953    0.244690  \n",
       "Milk                      0.661816    0.406368  \n",
       "Grocery                   0.924641    0.205497  \n",
       "Frozen                   -0.131525    0.390947  \n",
       "Detergents_Paper          1.000000    0.069291  \n",
       "Delicassen                0.069291    1.000000  "
      ]
     },
     "execution_count": 6,
     "metadata": {},
     "output_type": "execute_result"
    }
   ],
   "source": [
    "customers.corr()"
   ]
  },
  {
   "cell_type": "code",
   "execution_count": 7,
   "metadata": {},
   "outputs": [
    {
     "data": {
      "image/png": "[encoded data removed]",
      "text/plain": [
       "<Figure size 1080x720 with 2 Axes>"
      ]
     },
     "metadata": {
      "needs_background": "light"
     },
     "output_type": "display_data"
    }
   ],
   "source": [
    "plt.figure(figsize=(15, 10))\n",
    "\n",
    "sns.set(style='white')\n",
    "\n",
    "mask=np.triu(np.ones_like(customers.corr(), dtype=bool))\n",
    "\n",
    "cmap=sns.diverging_palette(0, 10, as_cmap=True)\n",
    "\n",
    "\n",
    "sns.heatmap(customers.corr(),\n",
    "           mask=mask,\n",
    "          cmap=cmap,\n",
    "          center=0,\n",
    "          square=True,\n",
    "          linewidths=10,\n",
    "          cbar_kws={'shrink': 0.5});"
   ]
  },
  {
   "cell_type": "markdown",
   "metadata": {},
   "source": [
    "**Your observations here**\n",
    "\n",
    "+ There are two different types of channels and three regions.\n",
    "+ No categorical data to convert. Everything is integer. So as maximum at a point we will have to normalize, but no conversion.\n",
    "+ No null values. At first sight, we won't have to eliminate any column/row and we do not need to replace null values since there are not.\n",
    "+ In terms of correlation: grocery and detergents paper are highly correlated, as well grocery and milk.\n",
    "\n"
   ]
  },
  {
   "cell_type": "markdown",
   "metadata": {},
   "source": [
    "# Challenge 2 - Data Cleaning and Transformation\n",
    "\n",
    "If your conclusion from the previous challenge is the data need cleaning/transformation, do it in the cells below. However, if your conclusion is the data need not be cleaned or transformed, feel free to skip this challenge. But if you do choose the latter, please provide rationale."
   ]
  },
  {
   "cell_type": "markdown",
   "metadata": {},
   "source": [
    "**Your comment here**\n",
    "\n",
    "+ There is no need to trasnform data. No nulls, no strings. Every column seems important.\n",
    "+ But data should be normalized:"
   ]
  },
  {
   "cell_type": "code",
   "execution_count": 8,
   "metadata": {},
   "outputs": [],
   "source": [
    "from sklearn.preprocessing import StandardScaler"
   ]
  },
  {
   "cell_type": "code",
   "execution_count": 9,
   "metadata": {},
   "outputs": [
    {
     "data": {
      "text/html": [
       "<div>\n",
       "<style scoped>\n",
       "    .dataframe tbody tr th:only-of-type {\n",
       "        vertical-align: middle;\n",
       "    }\n",
       "\n",
       "    .dataframe tbody tr th {\n",
       "        vertical-align: top;\n",
       "    }\n",
       "\n",
       "    .dataframe thead th {\n",
       "        text-align: right;\n",
       "    }\n",
       "</style>\n",
       "<table border=\"1\" class=\"dataframe\">\n",
       "  <thead>\n",
       "    <tr style=\"text-align: right;\">\n",
       "      <th></th>\n",
       "      <th>0</th>\n",
       "      <th>1</th>\n",
       "      <th>2</th>\n",
       "      <th>3</th>\n",
       "      <th>4</th>\n",
       "      <th>5</th>\n",
       "      <th>6</th>\n",
       "      <th>7</th>\n",
       "    </tr>\n",
       "  </thead>\n",
       "  <tbody>\n",
       "    <tr>\n",
       "      <th>0</th>\n",
       "      <td>1.448652</td>\n",
       "      <td>0.590668</td>\n",
       "      <td>0.052933</td>\n",
       "      <td>0.523568</td>\n",
       "      <td>-0.041115</td>\n",
       "      <td>-0.589367</td>\n",
       "      <td>-0.043569</td>\n",
       "      <td>-0.066339</td>\n",
       "    </tr>\n",
       "    <tr>\n",
       "      <th>1</th>\n",
       "      <td>1.448652</td>\n",
       "      <td>0.590668</td>\n",
       "      <td>-0.391302</td>\n",
       "      <td>0.544458</td>\n",
       "      <td>0.170318</td>\n",
       "      <td>-0.270136</td>\n",
       "      <td>0.086407</td>\n",
       "      <td>0.089151</td>\n",
       "    </tr>\n",
       "    <tr>\n",
       "      <th>2</th>\n",
       "      <td>1.448652</td>\n",
       "      <td>0.590668</td>\n",
       "      <td>-0.447029</td>\n",
       "      <td>0.408538</td>\n",
       "      <td>-0.028157</td>\n",
       "      <td>-0.137536</td>\n",
       "      <td>0.133232</td>\n",
       "      <td>2.243293</td>\n",
       "    </tr>\n",
       "    <tr>\n",
       "      <th>3</th>\n",
       "      <td>-0.690297</td>\n",
       "      <td>0.590668</td>\n",
       "      <td>0.100111</td>\n",
       "      <td>-0.624020</td>\n",
       "      <td>-0.392977</td>\n",
       "      <td>0.687144</td>\n",
       "      <td>-0.498588</td>\n",
       "      <td>0.093411</td>\n",
       "    </tr>\n",
       "    <tr>\n",
       "      <th>4</th>\n",
       "      <td>1.448652</td>\n",
       "      <td>0.590668</td>\n",
       "      <td>0.840239</td>\n",
       "      <td>-0.052396</td>\n",
       "      <td>-0.079356</td>\n",
       "      <td>0.173859</td>\n",
       "      <td>-0.231918</td>\n",
       "      <td>1.299347</td>\n",
       "    </tr>\n",
       "  </tbody>\n",
       "</table>\n",
       "</div>"
      ],
      "text/plain": [
       "          0         1         2         3         4         5         6  \\\n",
       "0  1.448652  0.590668  0.052933  0.523568 -0.041115 -0.589367 -0.043569   \n",
       "1  1.448652  0.590668 -0.391302  0.544458  0.170318 -0.270136  0.086407   \n",
       "2  1.448652  0.590668 -0.447029  0.408538 -0.028157 -0.137536  0.133232   \n",
       "3 -0.690297  0.590668  0.100111 -0.624020 -0.392977  0.687144 -0.498588   \n",
       "4  1.448652  0.590668  0.840239 -0.052396 -0.079356  0.173859 -0.231918   \n",
       "\n",
       "          7  \n",
       "0 -0.066339  \n",
       "1  0.089151  \n",
       "2  2.243293  \n",
       "3  0.093411  \n",
       "4  1.299347  "
      ]
     },
     "execution_count": 9,
     "metadata": {},
     "output_type": "execute_result"
    }
   ],
   "source": [
    "customers_norm=StandardScaler().fit_transform(customers)\n",
    "customers_norm=pd.DataFrame(customers_norm)\n",
    "customers_norm.head()"
   ]
  },
  {
   "cell_type": "markdown",
   "metadata": {},
   "source": [
    "# Challenge 3 - Data Preprocessing\n",
    "\n",
    "One problem with the dataset is the value ranges are remarkably different across various categories (e.g. `Fresh` and `Grocery` compared to `Detergents_Paper` and `Delicassen`). If you made this observation in the first challenge, you've done a great job! This means you not only completed the bonus questions in the previous Supervised Learning lab but also researched deep into [*feature scaling*](https://en.wikipedia.org/wiki/Feature_scaling). Keep on the good work!\n",
    "\n",
    "Diverse value ranges in different features could cause issues in our clustering. The way to reduce the problem is through feature scaling. We'll use this technique again with this dataset.\n",
    "\n",
    "#### We will use the `StandardScaler` from `sklearn.preprocessing` and scale our data. Read more about `StandardScaler` [here](https://scikit-learn.org/stable/modules/generated/sklearn.preprocessing.StandardScaler.html#sklearn.preprocessing.StandardScaler).\n",
    "\n",
    "*After scaling your data, assign the transformed data to a new variable `customers_scale`.*"
   ]
  },
  {
   "cell_type": "markdown",
   "metadata": {},
   "source": [
    "# Challenge 4 - Data Clustering with K-Means\n",
    "\n",
    "Now let's cluster the data with K-Means first. Initiate the K-Means model, then fit your scaled data. In the data returned from the `.fit` method, there is an attribute called `labels_` which is the cluster number assigned to each data record. What you can do is to assign these labels back to `customers` in a new column called `customers['labels']`. Then you'll see the cluster results of the original data."
   ]
  },
  {
   "cell_type": "code",
   "execution_count": 10,
   "metadata": {
    "scrolled": true
   },
   "outputs": [],
   "source": [
    "from sklearn.cluster import KMeans\n",
    "\n",
    "# Your code here:\n",
    "\n",
    "kmeans=KMeans(n_clusters=4)"
   ]
  },
  {
   "cell_type": "markdown",
   "metadata": {},
   "source": [
    "Count the values in `labels`."
   ]
  },
  {
   "cell_type": "code",
   "execution_count": 13,
   "metadata": {},
   "outputs": [],
   "source": [
    "# Your code here:\n",
    "clusters=kmeans.fit(customers_norm)"
   ]
  },
  {
   "cell_type": "code",
   "execution_count": 14,
   "metadata": {},
   "outputs": [],
   "source": [
    "customers['labels'] = clusters.labels_"
   ]
  },
  {
   "cell_type": "code",
   "execution_count": 16,
   "metadata": {},
   "outputs": [
    {
     "data": {
      "text/html": [
       "<div>\n",
       "<style scoped>\n",
       "    .dataframe tbody tr th:only-of-type {\n",
       "        vertical-align: middle;\n",
       "    }\n",
       "\n",
       "    .dataframe tbody tr th {\n",
       "        vertical-align: top;\n",
       "    }\n",
       "\n",
       "    .dataframe thead th {\n",
       "        text-align: right;\n",
       "    }\n",
       "</style>\n",
       "<table border=\"1\" class=\"dataframe\">\n",
       "  <thead>\n",
       "    <tr style=\"text-align: right;\">\n",
       "      <th></th>\n",
       "      <th>Channel</th>\n",
       "      <th>Region</th>\n",
       "      <th>Fresh</th>\n",
       "      <th>Milk</th>\n",
       "      <th>Grocery</th>\n",
       "      <th>Frozen</th>\n",
       "      <th>Detergents_Paper</th>\n",
       "      <th>Delicassen</th>\n",
       "      <th>labels</th>\n",
       "    </tr>\n",
       "  </thead>\n",
       "  <tbody>\n",
       "    <tr>\n",
       "      <th>0</th>\n",
       "      <td>2</td>\n",
       "      <td>3</td>\n",
       "      <td>12669</td>\n",
       "      <td>9656</td>\n",
       "      <td>7561</td>\n",
       "      <td>214</td>\n",
       "      <td>2674</td>\n",
       "      <td>1338</td>\n",
       "      <td>0</td>\n",
       "    </tr>\n",
       "    <tr>\n",
       "      <th>1</th>\n",
       "      <td>2</td>\n",
       "      <td>3</td>\n",
       "      <td>7057</td>\n",
       "      <td>9810</td>\n",
       "      <td>9568</td>\n",
       "      <td>1762</td>\n",
       "      <td>3293</td>\n",
       "      <td>1776</td>\n",
       "      <td>0</td>\n",
       "    </tr>\n",
       "    <tr>\n",
       "      <th>2</th>\n",
       "      <td>2</td>\n",
       "      <td>3</td>\n",
       "      <td>6353</td>\n",
       "      <td>8808</td>\n",
       "      <td>7684</td>\n",
       "      <td>2405</td>\n",
       "      <td>3516</td>\n",
       "      <td>7844</td>\n",
       "      <td>0</td>\n",
       "    </tr>\n",
       "    <tr>\n",
       "      <th>3</th>\n",
       "      <td>1</td>\n",
       "      <td>3</td>\n",
       "      <td>13265</td>\n",
       "      <td>1196</td>\n",
       "      <td>4221</td>\n",
       "      <td>6404</td>\n",
       "      <td>507</td>\n",
       "      <td>1788</td>\n",
       "      <td>1</td>\n",
       "    </tr>\n",
       "    <tr>\n",
       "      <th>4</th>\n",
       "      <td>2</td>\n",
       "      <td>3</td>\n",
       "      <td>22615</td>\n",
       "      <td>5410</td>\n",
       "      <td>7198</td>\n",
       "      <td>3915</td>\n",
       "      <td>1777</td>\n",
       "      <td>5185</td>\n",
       "      <td>0</td>\n",
       "    </tr>\n",
       "  </tbody>\n",
       "</table>\n",
       "</div>"
      ],
      "text/plain": [
       "   Channel  Region  Fresh  Milk  Grocery  Frozen  Detergents_Paper  \\\n",
       "0        2       3  12669  9656     7561     214              2674   \n",
       "1        2       3   7057  9810     9568    1762              3293   \n",
       "2        2       3   6353  8808     7684    2405              3516   \n",
       "3        1       3  13265  1196     4221    6404               507   \n",
       "4        2       3  22615  5410     7198    3915              1777   \n",
       "\n",
       "   Delicassen  labels  \n",
       "0        1338       0  \n",
       "1        1776       0  \n",
       "2        7844       0  \n",
       "3        1788       1  \n",
       "4        5185       0  "
      ]
     },
     "execution_count": 16,
     "metadata": {},
     "output_type": "execute_result"
    }
   ],
   "source": [
    "customers.head()"
   ]
  },
  {
   "cell_type": "code",
   "execution_count": 22,
   "metadata": {},
   "outputs": [
    {
     "data": {
      "image/png": "[encoded data removed]",
      "text/plain": [
       "<Figure size 432x288 with 1 Axes>"
      ]
     },
     "metadata": {},
     "output_type": "display_data"
    }
   ],
   "source": [
    "plt.scatter(customers['Grocery'], customers['Milk'], c=customers.labels)\n",
    "plt.show();"
   ]
  },
  {
   "cell_type": "code",
   "execution_count": 26,
   "metadata": {},
   "outputs": [],
   "source": [
    "from sklearn.decomposition import PCA"
   ]
  },
  {
   "cell_type": "code",
   "execution_count": 27,
   "metadata": {},
   "outputs": [],
   "source": [
    "customers_pca = customers.drop('labels', axis=1)"
   ]
  },
  {
   "cell_type": "code",
   "execution_count": 28,
   "metadata": {},
   "outputs": [],
   "source": [
    "pca=PCA(n_components = 2).fit_transform(customers_pca)"
   ]
  },
  {
   "cell_type": "code",
   "execution_count": 30,
   "metadata": {},
   "outputs": [
    {
     "data": {
      "text/html": [
       "<div>\n",
       "<style scoped>\n",
       "    .dataframe tbody tr th:only-of-type {\n",
       "        vertical-align: middle;\n",
       "    }\n",
       "\n",
       "    .dataframe tbody tr th {\n",
       "        vertical-align: top;\n",
       "    }\n",
       "\n",
       "    .dataframe thead th {\n",
       "        text-align: right;\n",
       "    }\n",
       "</style>\n",
       "<table border=\"1\" class=\"dataframe\">\n",
       "  <thead>\n",
       "    <tr style=\"text-align: right;\">\n",
       "      <th></th>\n",
       "      <th>0</th>\n",
       "      <th>1</th>\n",
       "    </tr>\n",
       "  </thead>\n",
       "  <tbody>\n",
       "    <tr>\n",
       "      <th>0</th>\n",
       "      <td>650.022120</td>\n",
       "      <td>1585.519107</td>\n",
       "    </tr>\n",
       "    <tr>\n",
       "      <th>1</th>\n",
       "      <td>-4426.804984</td>\n",
       "      <td>4042.451521</td>\n",
       "    </tr>\n",
       "    <tr>\n",
       "      <th>2</th>\n",
       "      <td>-4841.998710</td>\n",
       "      <td>2578.762188</td>\n",
       "    </tr>\n",
       "    <tr>\n",
       "      <th>3</th>\n",
       "      <td>990.346444</td>\n",
       "      <td>-6279.806002</td>\n",
       "    </tr>\n",
       "    <tr>\n",
       "      <th>4</th>\n",
       "      <td>10657.998731</td>\n",
       "      <td>-2159.725789</td>\n",
       "    </tr>\n",
       "  </tbody>\n",
       "</table>\n",
       "</div>"
      ],
      "text/plain": [
       "              0            1\n",
       "0    650.022120  1585.519107\n",
       "1  -4426.804984  4042.451521\n",
       "2  -4841.998710  2578.762188\n",
       "3    990.346444 -6279.806002\n",
       "4  10657.998731 -2159.725789"
      ]
     },
     "execution_count": 30,
     "metadata": {},
     "output_type": "execute_result"
    }
   ],
   "source": [
    "customer_PCA = pd.DataFrame(pca)\n",
    "customer_PCA.head()"
   ]
  },
  {
   "cell_type": "code",
   "execution_count": 31,
   "metadata": {},
   "outputs": [
    {
     "data": {
      "image/png": "[encoded data removed]",
      "text/plain": [
       "<Figure size 432x288 with 1 Axes>"
      ]
     },
     "metadata": {},
     "output_type": "display_data"
    }
   ],
   "source": [
    "plt.scatter(customer_PCA[0], customer_PCA[1], c=customers.labels)\n",
    "plt.show();"
   ]
  },
  {
   "cell_type": "markdown",
   "metadata": {},
   "source": [
    "# Challenge 5 - Data Clustering with DBSCAN\n",
    "\n",
    "Now let's cluster the data using DBSCAN. Use `DBSCAN(eps=0.5)` to initiate the model, then fit your scaled data. In the data returned from the `.fit` method, assign the `labels_` back to `customers['labels_DBSCAN']`. Now your original data have two labels, one from K-Means and the other from DBSCAN."
   ]
  },
  {
   "cell_type": "code",
   "execution_count": 37,
   "metadata": {
    "scrolled": true
   },
   "outputs": [],
   "source": [
    "# Your code here\n",
    "from sklearn.cluster import DBSCAN \n",
    "from sklearn.neighbors import NearestNeighbors"
   ]
  },
  {
   "cell_type": "markdown",
   "metadata": {},
   "source": [
    "Count the values in `labels_DBSCAN`."
   ]
  },
  {
   "cell_type": "code",
   "execution_count": 34,
   "metadata": {},
   "outputs": [],
   "source": [
    "# Your code here\n",
    "dbscan = DBSCAN(eps = 0.5, min_samples = 5)\n",
    "dbscan.fit(customers_norm)\n",
    "customers['labels_DBSCAN'] = dbscan.labels_"
   ]
  },
  {
   "cell_type": "code",
   "execution_count": 35,
   "metadata": {},
   "outputs": [
    {
     "data": {
      "text/plain": [
       "(array([-1,  0,  1,  2,  3,  4,  5,  6,  7], dtype=int64),\n",
       " array([255,   5, 130,   5,   5,   7,  22,   6,   5], dtype=int64))"
      ]
     },
     "execution_count": 35,
     "metadata": {},
     "output_type": "execute_result"
    }
   ],
   "source": [
    "np.unique(dbscan.labels_, return_counts = True)"
   ]
  },
  {
   "cell_type": "code",
   "execution_count": 39,
   "metadata": {},
   "outputs": [],
   "source": [
    "neigh = NearestNeighbors(n_neighbors = 2)\n",
    "nbrs = neigh.fit(customers)\n",
    "distances, indices = nbrs.kneighbors(customers)"
   ]
  },
  {
   "cell_type": "code",
   "execution_count": 40,
   "metadata": {},
   "outputs": [
    {
     "data": {
      "image/png": "[encoded data removed]",
      "text/plain": [
       "<Figure size 432x288 with 1 Axes>"
      ]
     },
     "metadata": {},
     "output_type": "display_data"
    }
   ],
   "source": [
    "distances = np.sort(distances, axis = 0)\n",
    "distances = distances[:,1]\n",
    "plt.plot(distances);"
   ]
  },
  {
   "cell_type": "markdown",
   "metadata": {},
   "source": [
    "# Challenge 6 - Compare K-Means with DBSCAN\n",
    "\n",
    "Now we want to visually compare how K-Means and DBSCAN have clustered our data. We will create scatter plots for several columns. For each of the following column pairs, plot a scatter plot using `labels` and another using `labels_DBSCAN`. Put them side by side to compare. Which clustering algorithm makes better sense?\n",
    "\n",
    "Columns to visualize:\n",
    "\n",
    "* `Detergents_Paper` as X and `Milk` as y\n",
    "* `Grocery` as X and `Fresh` as y\n",
    "* `Frozen` as X and `Delicassen` as y"
   ]
  },
  {
   "cell_type": "markdown",
   "metadata": {},
   "source": [
    "Visualize `Detergents_Paper` as X and `Milk` as y by `labels` and `labels_DBSCAN` respectively"
   ]
  },
  {
   "cell_type": "code",
   "execution_count": null,
   "metadata": {},
   "outputs": [],
   "source": [
    "# Your code here:\n"
   ]
  },
  {
   "cell_type": "markdown",
   "metadata": {},
   "source": [
    "Visualize `Grocery` as X and `Fresh` as y by `labels` and `labels_DBSCAN` respectively"
   ]
  },
  {
   "cell_type": "code",
   "execution_count": null,
   "metadata": {},
   "outputs": [],
   "source": [
    "# Your code here:\n"
   ]
  },
  {
   "cell_type": "markdown",
   "metadata": {},
   "source": [
    "Visualize `Frozen` as X and `Delicassen` as y by `labels` and `labels_DBSCAN` respectively"
   ]
  },
  {
   "cell_type": "code",
   "execution_count": null,
   "metadata": {},
   "outputs": [],
   "source": [
    "# Your code here:\n"
   ]
  },
  {
   "cell_type": "markdown",
   "metadata": {},
   "source": [
    "Let's use a groupby to see how the mean differs between the groups. Group `customers` by `labels` and `labels_DBSCAN` respectively and compute the means for all columns."
   ]
  },
  {
   "cell_type": "code",
   "execution_count": null,
   "metadata": {},
   "outputs": [],
   "source": [
    "# Your code here:\n"
   ]
  },
  {
   "cell_type": "markdown",
   "metadata": {},
   "source": [
    "Which algorithm appears to perform better?"
   ]
  },
  {
   "cell_type": "markdown",
   "metadata": {},
   "source": [
    "**Your observations here**\n",
    "\n",
    " Me cuesta un poco ver cual de los dos modelos clusteriza mejor a traves de sus medias. Si fuera por los graficos diria que kmeans funciona mejor, aunque si fuera por la diferencia de medias podria ser DBSCAN. Para mi ninguno de los dos esta haciendo buenos clusters. "
   ]
  },
  {
   "cell_type": "markdown",
   "metadata": {},
   "source": [
    "# Bonus Challenge 2 - Changing K-Means Number of Clusters\n",
    "\n",
    "As we mentioned earlier, we don't need to worry about the number of clusters with DBSCAN because it automatically decides that based on the parameters we send to it. But with K-Means, we have to supply the `n_clusters` param (if you don't supply `n_clusters`, the algorithm will use `8` by default). You need to know that the optimal number of clusters differs case by case based on the dataset. K-Means can perform badly if the wrong number of clusters is used.\n",
    "\n",
    "In advanced machine learning, data scientists try different numbers of clusters and evaluate the results with statistical measures (read [here](https://en.wikipedia.org/wiki/Cluster_analysis#External_evaluation)). We are not using statistical measures today but we'll use our eyes instead. In the cells below, experiment with different number of clusters and visualize with scatter plots. What number of clusters seems to work best for K-Means?"
   ]
  },
  {
   "cell_type": "code",
   "execution_count": null,
   "metadata": {},
   "outputs": [],
   "source": [
    "# Your code here"
   ]
  },
  {
   "cell_type": "markdown",
   "metadata": {},
   "source": [
    "**Your comment here**\n",
    "\n",
    "Segun puedo ver, 2 clusters parecen funcionar mejor."
   ]
  },
  {
   "cell_type": "markdown",
   "metadata": {},
   "source": [
    "# Bonus Challenge 3 - Changing DBSCAN `eps` and `min_samples`\n",
    "\n",
    "Experiment changing the `eps` and `min_samples` params for DBSCAN. See how the results differ with scatter plot visualization."
   ]
  },
  {
   "cell_type": "code",
   "execution_count": null,
   "metadata": {},
   "outputs": [],
   "source": [
    "# Your code here"
   ]
  },
  {
   "cell_type": "markdown",
   "metadata": {},
   "source": [
    "**Your comment here**\n",
    "\n",
    "+ \n",
    "+ \n",
    "+ \n"
   ]
  }
 ],
 "metadata": {
  "kernelspec": {
   "display_name": "Python 3 (ipykernel)",
   "language": "python",
   "name": "python3"
  },
  "language_info": {
   "codemirror_mode": {
    "name": "ipython",
    "version": 3
   },
   "file_extension": ".py",
   "mimetype": "text/x-python",
   "name": "python",
   "nbconvert_exporter": "python",
   "pygments_lexer": "ipython3",
   "version": "3.9.7"
  },
  "toc": {
   "base_numbering": 1,
   "nav_menu": {},
   "number_sections": true,
   "sideBar": true,
   "skip_h1_title": false,
   "title_cell": "Table of Contents",
   "title_sidebar": "Contents",
   "toc_cell": true,
   "toc_position": {},
   "toc_section_display": true,
   "toc_window_display": false
  },
  "varInspector": {
   "cols": {
    "lenName": 16,
    "lenType": 16,
    "lenVar": 40
   },
   "kernels_config": {
    "python": {
     "delete_cmd_postfix": "",
     "delete_cmd_prefix": "del ",
     "library": "var_list.py",
     "varRefreshCmd": "print(var_dic_list())"
    },
    "r": {
     "delete_cmd_postfix": ") ",
     "delete_cmd_prefix": "rm(",
     "library": "var_list.r",
     "varRefreshCmd": "cat(var_dic_list()) "
    }
   },
   "types_to_exclude": [
    "module",
    "function",
    "builtin_function_or_method",
    "instance",
    "_Feature"
   ],
   "window_display": false
  }
 },
 "nbformat": 4,
 "nbformat_minor": 2
}
